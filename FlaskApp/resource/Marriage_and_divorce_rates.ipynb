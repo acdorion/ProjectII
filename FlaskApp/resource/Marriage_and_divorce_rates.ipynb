{
 "cells": [
  {
   "cell_type": "code",
   "execution_count": 1,
   "metadata": {},
   "outputs": [],
   "source": [
    "import pandas as pd\n",
    "import sqlite3, matplotlib\n",
    "from sqlalchemy import create_engine\n",
    "import re"
   ]
  },
  {
   "cell_type": "code",
   "execution_count": 2,
   "metadata": {},
   "outputs": [],
   "source": [
    "# read the marriage rates\n",
    "df_mr = pd.read_csv('state_marriage_rates.csv', encoding='utf-8')\n",
    "# read the divorce rates\n",
    "df_dr = pd.read_csv('state_divorce_rates.csv', encoding='utf-8')"
   ]
  },
  {
   "cell_type": "code",
   "execution_count": 3,
   "metadata": {},
   "outputs": [
    {
     "data": {
      "text/html": [
       "<div>\n",
       "<style scoped>\n",
       "    .dataframe tbody tr th:only-of-type {\n",
       "        vertical-align: middle;\n",
       "    }\n",
       "\n",
       "    .dataframe tbody tr th {\n",
       "        vertical-align: top;\n",
       "    }\n",
       "\n",
       "    .dataframe thead th {\n",
       "        text-align: right;\n",
       "    }\n",
       "</style>\n",
       "<table border=\"1\" class=\"dataframe\">\n",
       "  <thead>\n",
       "    <tr style=\"text-align: right;\">\n",
       "      <th></th>\n",
       "      <th>State</th>\n",
       "      <th>2019</th>\n",
       "      <th>2018</th>\n",
       "      <th>2017</th>\n",
       "      <th>2016</th>\n",
       "      <th>2015</th>\n",
       "      <th>2014</th>\n",
       "      <th>2013</th>\n",
       "      <th>2012</th>\n",
       "      <th>2011</th>\n",
       "      <th>...</th>\n",
       "      <th>2006</th>\n",
       "      <th>2005</th>\n",
       "      <th>2004</th>\n",
       "      <th>2003</th>\n",
       "      <th>2002</th>\n",
       "      <th>2001</th>\n",
       "      <th>2000</th>\n",
       "      <th>1999</th>\n",
       "      <th>1995</th>\n",
       "      <th>1990</th>\n",
       "    </tr>\n",
       "  </thead>\n",
       "  <tbody>\n",
       "    <tr>\n",
       "      <th>0</th>\n",
       "      <td>Alabama</td>\n",
       "      <td>6.7</td>\n",
       "      <td>6.8</td>\n",
       "      <td>7.0</td>\n",
       "      <td>7.1</td>\n",
       "      <td>7.4</td>\n",
       "      <td>7.8</td>\n",
       "      <td>7.8</td>\n",
       "      <td>8.2</td>\n",
       "      <td>8.4</td>\n",
       "      <td>...</td>\n",
       "      <td>9.2</td>\n",
       "      <td>9.2</td>\n",
       "      <td>9.4</td>\n",
       "      <td>9.6</td>\n",
       "      <td>9.9</td>\n",
       "      <td>9.4</td>\n",
       "      <td>10.1</td>\n",
       "      <td>10.8</td>\n",
       "      <td>9.8</td>\n",
       "      <td>10.6</td>\n",
       "    </tr>\n",
       "    <tr>\n",
       "      <th>1</th>\n",
       "      <td>Alaska</td>\n",
       "      <td>6.5</td>\n",
       "      <td>6.7</td>\n",
       "      <td>6.9</td>\n",
       "      <td>7.1</td>\n",
       "      <td>7.4</td>\n",
       "      <td>7.5</td>\n",
       "      <td>7.3</td>\n",
       "      <td>7.2</td>\n",
       "      <td>7.8</td>\n",
       "      <td>...</td>\n",
       "      <td>8.2</td>\n",
       "      <td>8.2</td>\n",
       "      <td>8.5</td>\n",
       "      <td>8.1</td>\n",
       "      <td>8.3</td>\n",
       "      <td>8.1</td>\n",
       "      <td>8.9</td>\n",
       "      <td>8.6</td>\n",
       "      <td>9.0</td>\n",
       "      <td>10.2</td>\n",
       "    </tr>\n",
       "    <tr>\n",
       "      <th>2</th>\n",
       "      <td>Arizona</td>\n",
       "      <td>5.3</td>\n",
       "      <td>5.5</td>\n",
       "      <td>5.8</td>\n",
       "      <td>5.9</td>\n",
       "      <td>5.9</td>\n",
       "      <td>5.8</td>\n",
       "      <td>5.4</td>\n",
       "      <td>5.6</td>\n",
       "      <td>5.7</td>\n",
       "      <td>...</td>\n",
       "      <td>6.5</td>\n",
       "      <td>6.6</td>\n",
       "      <td>6.7</td>\n",
       "      <td>6.5</td>\n",
       "      <td>6.7</td>\n",
       "      <td>7.6</td>\n",
       "      <td>7.5</td>\n",
       "      <td>8.2</td>\n",
       "      <td>8.8</td>\n",
       "      <td>10.0</td>\n",
       "    </tr>\n",
       "    <tr>\n",
       "      <th>3</th>\n",
       "      <td>Arkansas</td>\n",
       "      <td>8.4</td>\n",
       "      <td>8.9</td>\n",
       "      <td>9.5</td>\n",
       "      <td>9.9</td>\n",
       "      <td>10.0</td>\n",
       "      <td>10.1</td>\n",
       "      <td>9.8</td>\n",
       "      <td>10.9</td>\n",
       "      <td>10.4</td>\n",
       "      <td>...</td>\n",
       "      <td>12.4</td>\n",
       "      <td>12.9</td>\n",
       "      <td>13.4</td>\n",
       "      <td>13.4</td>\n",
       "      <td>14.3</td>\n",
       "      <td>14.3</td>\n",
       "      <td>15.4</td>\n",
       "      <td>14.8</td>\n",
       "      <td>14.4</td>\n",
       "      <td>15.3</td>\n",
       "    </tr>\n",
       "    <tr>\n",
       "      <th>4</th>\n",
       "      <td>California</td>\n",
       "      <td>5.7</td>\n",
       "      <td>6.0</td>\n",
       "      <td>6.3</td>\n",
       "      <td>6.5</td>\n",
       "      <td>6.2</td>\n",
       "      <td>6.4</td>\n",
       "      <td>6.5</td>\n",
       "      <td>6.0</td>\n",
       "      <td>5.8</td>\n",
       "      <td>...</td>\n",
       "      <td>6.3</td>\n",
       "      <td>6.4</td>\n",
       "      <td>6.4</td>\n",
       "      <td>6.1</td>\n",
       "      <td>6.2</td>\n",
       "      <td>6.5</td>\n",
       "      <td>5.8</td>\n",
       "      <td>6.4</td>\n",
       "      <td>6.3</td>\n",
       "      <td>7.9</td>\n",
       "    </tr>\n",
       "  </tbody>\n",
       "</table>\n",
       "<p>5 rows × 24 columns</p>\n",
       "</div>"
      ],
      "text/plain": [
       "        State  2019  2018  2017  2016  2015  2014  2013  2012  2011  ...  \\\n",
       "0     Alabama   6.7   6.8   7.0   7.1   7.4   7.8   7.8   8.2   8.4  ...   \n",
       "1      Alaska   6.5   6.7   6.9   7.1   7.4   7.5   7.3   7.2   7.8  ...   \n",
       "2     Arizona   5.3   5.5   5.8   5.9   5.9   5.8   5.4   5.6   5.7  ...   \n",
       "3    Arkansas   8.4   8.9   9.5   9.9  10.0  10.1   9.8  10.9  10.4  ...   \n",
       "4  California   5.7   6.0   6.3   6.5   6.2   6.4   6.5   6.0   5.8  ...   \n",
       "\n",
       "   2006  2005  2004  2003  2002  2001  2000  1999  1995  1990  \n",
       "0   9.2   9.2   9.4   9.6   9.9   9.4  10.1  10.8   9.8  10.6  \n",
       "1   8.2   8.2   8.5   8.1   8.3   8.1   8.9   8.6   9.0  10.2  \n",
       "2   6.5   6.6   6.7   6.5   6.7   7.6   7.5   8.2   8.8  10.0  \n",
       "3  12.4  12.9  13.4  13.4  14.3  14.3  15.4  14.8  14.4  15.3  \n",
       "4   6.3   6.4   6.4   6.1   6.2   6.5   5.8   6.4   6.3   7.9  \n",
       "\n",
       "[5 rows x 24 columns]"
      ]
     },
     "execution_count": 3,
     "metadata": {},
     "output_type": "execute_result"
    }
   ],
   "source": [
    "df_mr.head(5)"
   ]
  },
  {
   "cell_type": "code",
   "execution_count": 5,
   "metadata": {},
   "outputs": [
    {
     "data": {
      "text/plain": [
       "Index(['State', '2019', '2018', '2017', '2016', '2015', '2014', '2013', '2012',\n",
       "       '2011', '2010', '2009', '2008', '2007', '2006', '2005', '2004', '2003',\n",
       "       '2002', '2001', '2000', '1999', '1995', '1990'],\n",
       "      dtype='object')"
      ]
     },
     "execution_count": 5,
     "metadata": {},
     "output_type": "execute_result"
    }
   ],
   "source": [
    "df_mr.columns"
   ]
  },
  {
   "cell_type": "code",
   "execution_count": 6,
   "metadata": {},
   "outputs": [
    {
     "data": {
      "text/html": [
       "<div>\n",
       "<style scoped>\n",
       "    .dataframe tbody tr th:only-of-type {\n",
       "        vertical-align: middle;\n",
       "    }\n",
       "\n",
       "    .dataframe tbody tr th {\n",
       "        vertical-align: top;\n",
       "    }\n",
       "\n",
       "    .dataframe thead th {\n",
       "        text-align: right;\n",
       "    }\n",
       "</style>\n",
       "<table border=\"1\" class=\"dataframe\">\n",
       "  <thead>\n",
       "    <tr style=\"text-align: right;\">\n",
       "      <th></th>\n",
       "      <th>State</th>\n",
       "      <th>2019</th>\n",
       "      <th>2018</th>\n",
       "      <th>2017</th>\n",
       "      <th>2016</th>\n",
       "      <th>2015</th>\n",
       "      <th>2014</th>\n",
       "      <th>2013</th>\n",
       "      <th>2012</th>\n",
       "      <th>2011</th>\n",
       "      <th>...</th>\n",
       "      <th>2006</th>\n",
       "      <th>2005</th>\n",
       "      <th>2004</th>\n",
       "      <th>2003</th>\n",
       "      <th>2002</th>\n",
       "      <th>2001</th>\n",
       "      <th>2000</th>\n",
       "      <th>1999</th>\n",
       "      <th>1995</th>\n",
       "      <th>1990</th>\n",
       "    </tr>\n",
       "  </thead>\n",
       "  <tbody>\n",
       "    <tr>\n",
       "      <th>0</th>\n",
       "      <td>Alabama</td>\n",
       "      <td>6.7</td>\n",
       "      <td>6.8</td>\n",
       "      <td>7.0</td>\n",
       "      <td>7.1</td>\n",
       "      <td>7.4</td>\n",
       "      <td>7.8</td>\n",
       "      <td>7.8</td>\n",
       "      <td>8.2</td>\n",
       "      <td>8.4</td>\n",
       "      <td>...</td>\n",
       "      <td>9.2</td>\n",
       "      <td>9.2</td>\n",
       "      <td>9.4</td>\n",
       "      <td>9.6</td>\n",
       "      <td>9.9</td>\n",
       "      <td>9.4</td>\n",
       "      <td>10.1</td>\n",
       "      <td>10.8</td>\n",
       "      <td>9.8</td>\n",
       "      <td>10.6</td>\n",
       "    </tr>\n",
       "    <tr>\n",
       "      <th>1</th>\n",
       "      <td>Alaska</td>\n",
       "      <td>6.5</td>\n",
       "      <td>6.7</td>\n",
       "      <td>6.9</td>\n",
       "      <td>7.1</td>\n",
       "      <td>7.4</td>\n",
       "      <td>7.5</td>\n",
       "      <td>7.3</td>\n",
       "      <td>7.2</td>\n",
       "      <td>7.8</td>\n",
       "      <td>...</td>\n",
       "      <td>8.2</td>\n",
       "      <td>8.2</td>\n",
       "      <td>8.5</td>\n",
       "      <td>8.1</td>\n",
       "      <td>8.3</td>\n",
       "      <td>8.1</td>\n",
       "      <td>8.9</td>\n",
       "      <td>8.6</td>\n",
       "      <td>9.0</td>\n",
       "      <td>10.2</td>\n",
       "    </tr>\n",
       "    <tr>\n",
       "      <th>2</th>\n",
       "      <td>Arizona</td>\n",
       "      <td>5.3</td>\n",
       "      <td>5.5</td>\n",
       "      <td>5.8</td>\n",
       "      <td>5.9</td>\n",
       "      <td>5.9</td>\n",
       "      <td>5.8</td>\n",
       "      <td>5.4</td>\n",
       "      <td>5.6</td>\n",
       "      <td>5.7</td>\n",
       "      <td>...</td>\n",
       "      <td>6.5</td>\n",
       "      <td>6.6</td>\n",
       "      <td>6.7</td>\n",
       "      <td>6.5</td>\n",
       "      <td>6.7</td>\n",
       "      <td>7.6</td>\n",
       "      <td>7.5</td>\n",
       "      <td>8.2</td>\n",
       "      <td>8.8</td>\n",
       "      <td>10.0</td>\n",
       "    </tr>\n",
       "    <tr>\n",
       "      <th>3</th>\n",
       "      <td>Arkansas</td>\n",
       "      <td>8.4</td>\n",
       "      <td>8.9</td>\n",
       "      <td>9.5</td>\n",
       "      <td>9.9</td>\n",
       "      <td>10.0</td>\n",
       "      <td>10.1</td>\n",
       "      <td>9.8</td>\n",
       "      <td>10.9</td>\n",
       "      <td>10.4</td>\n",
       "      <td>...</td>\n",
       "      <td>12.4</td>\n",
       "      <td>12.9</td>\n",
       "      <td>13.4</td>\n",
       "      <td>13.4</td>\n",
       "      <td>14.3</td>\n",
       "      <td>14.3</td>\n",
       "      <td>15.4</td>\n",
       "      <td>14.8</td>\n",
       "      <td>14.4</td>\n",
       "      <td>15.3</td>\n",
       "    </tr>\n",
       "    <tr>\n",
       "      <th>4</th>\n",
       "      <td>California</td>\n",
       "      <td>5.7</td>\n",
       "      <td>6.0</td>\n",
       "      <td>6.3</td>\n",
       "      <td>6.5</td>\n",
       "      <td>6.2</td>\n",
       "      <td>6.4</td>\n",
       "      <td>6.5</td>\n",
       "      <td>6.0</td>\n",
       "      <td>5.8</td>\n",
       "      <td>...</td>\n",
       "      <td>6.3</td>\n",
       "      <td>6.4</td>\n",
       "      <td>6.4</td>\n",
       "      <td>6.1</td>\n",
       "      <td>6.2</td>\n",
       "      <td>6.5</td>\n",
       "      <td>5.8</td>\n",
       "      <td>6.4</td>\n",
       "      <td>6.3</td>\n",
       "      <td>7.9</td>\n",
       "    </tr>\n",
       "  </tbody>\n",
       "</table>\n",
       "<p>5 rows × 24 columns</p>\n",
       "</div>"
      ],
      "text/plain": [
       "        State  2019  2018  2017  2016  2015  2014  2013  2012  2011  ...  \\\n",
       "0     Alabama   6.7   6.8   7.0   7.1   7.4   7.8   7.8   8.2   8.4  ...   \n",
       "1      Alaska   6.5   6.7   6.9   7.1   7.4   7.5   7.3   7.2   7.8  ...   \n",
       "2     Arizona   5.3   5.5   5.8   5.9   5.9   5.8   5.4   5.6   5.7  ...   \n",
       "3    Arkansas   8.4   8.9   9.5   9.9  10.0  10.1   9.8  10.9  10.4  ...   \n",
       "4  California   5.7   6.0   6.3   6.5   6.2   6.4   6.5   6.0   5.8  ...   \n",
       "\n",
       "   2006  2005  2004  2003  2002  2001  2000  1999  1995  1990  \n",
       "0   9.2   9.2   9.4   9.6   9.9   9.4  10.1  10.8   9.8  10.6  \n",
       "1   8.2   8.2   8.5   8.1   8.3   8.1   8.9   8.6   9.0  10.2  \n",
       "2   6.5   6.6   6.7   6.5   6.7   7.6   7.5   8.2   8.8  10.0  \n",
       "3  12.4  12.9  13.4  13.4  14.3  14.3  15.4  14.8  14.4  15.3  \n",
       "4   6.3   6.4   6.4   6.1   6.2   6.5   5.8   6.4   6.3   7.9  \n",
       "\n",
       "[5 rows x 24 columns]"
      ]
     },
     "execution_count": 6,
     "metadata": {},
     "output_type": "execute_result"
    }
   ],
   "source": [
    "df_mr= df_mr.iloc[:,0:24]\n",
    "df_mr.head()"
   ]
  },
  {
   "cell_type": "code",
   "execution_count": 7,
   "metadata": {},
   "outputs": [
    {
     "data": {
      "text/plain": [
       "Index(['State', 'Y_2019', 'Y_2018', 'Y_2017', 'Y_2016', 'Y_2015', 'Y_2014',\n",
       "       'Y_2013', 'Y_2012', 'Y_2011', 'Y_2010', 'Y_2009', 'Y_2008', 'Y_2007',\n",
       "       'Y_2006', 'Y_2005', 'Y_2004', 'Y_2003', 'Y_2002', 'Y_2001', 'Y_2000',\n",
       "       'Y_1999', 'Y_1995', 'Y_1990'],\n",
       "      dtype='object')"
      ]
     },
     "execution_count": 7,
     "metadata": {},
     "output_type": "execute_result"
    }
   ],
   "source": [
    "# convert the float to strings for marriage rates\n",
    "df_mr.columns = ['State']+['Y_'+str(col) for col in df_mr.columns if col != 'State']\n",
    "df_mr.columns"
   ]
  },
  {
   "cell_type": "code",
   "execution_count": 8,
   "metadata": {},
   "outputs": [
    {
     "data": {
      "text/html": [
       "<div>\n",
       "<style scoped>\n",
       "    .dataframe tbody tr th:only-of-type {\n",
       "        vertical-align: middle;\n",
       "    }\n",
       "\n",
       "    .dataframe tbody tr th {\n",
       "        vertical-align: top;\n",
       "    }\n",
       "\n",
       "    .dataframe thead th {\n",
       "        text-align: right;\n",
       "    }\n",
       "</style>\n",
       "<table border=\"1\" class=\"dataframe\">\n",
       "  <thead>\n",
       "    <tr style=\"text-align: right;\">\n",
       "      <th></th>\n",
       "      <th>State</th>\n",
       "      <th>2019</th>\n",
       "      <th>2018</th>\n",
       "      <th>2017</th>\n",
       "      <th>2016</th>\n",
       "      <th>2015</th>\n",
       "      <th>2014</th>\n",
       "      <th>2013</th>\n",
       "      <th>2012</th>\n",
       "      <th>2011</th>\n",
       "      <th>...</th>\n",
       "      <th>2006</th>\n",
       "      <th>2005</th>\n",
       "      <th>2004</th>\n",
       "      <th>2003</th>\n",
       "      <th>2002</th>\n",
       "      <th>2001</th>\n",
       "      <th>2000</th>\n",
       "      <th>1999</th>\n",
       "      <th>1995</th>\n",
       "      <th>1990</th>\n",
       "    </tr>\n",
       "  </thead>\n",
       "  <tbody>\n",
       "    <tr>\n",
       "      <th>0</th>\n",
       "      <td>Alabama</td>\n",
       "      <td>3.6</td>\n",
       "      <td>3.7</td>\n",
       "      <td>3.7</td>\n",
       "      <td>3.8</td>\n",
       "      <td>3.9</td>\n",
       "      <td>3.8</td>\n",
       "      <td>3.7</td>\n",
       "      <td>3.6</td>\n",
       "      <td>4.3</td>\n",
       "      <td>...</td>\n",
       "      <td>4.9</td>\n",
       "      <td>4.9</td>\n",
       "      <td>4.9</td>\n",
       "      <td>5.2</td>\n",
       "      <td>5.4</td>\n",
       "      <td>5.4</td>\n",
       "      <td>5.5</td>\n",
       "      <td>5.7</td>\n",
       "      <td>6.0</td>\n",
       "      <td>6.1</td>\n",
       "    </tr>\n",
       "    <tr>\n",
       "      <th>1</th>\n",
       "      <td>Alaska</td>\n",
       "      <td>3.6</td>\n",
       "      <td>3.7</td>\n",
       "      <td>3.6</td>\n",
       "      <td>3.9</td>\n",
       "      <td>4.1</td>\n",
       "      <td>4.0</td>\n",
       "      <td>4.5</td>\n",
       "      <td>4.5</td>\n",
       "      <td>4.8</td>\n",
       "      <td>...</td>\n",
       "      <td>4.2</td>\n",
       "      <td>4.3</td>\n",
       "      <td>4.3</td>\n",
       "      <td>3.9</td>\n",
       "      <td>4.6</td>\n",
       "      <td>4.3</td>\n",
       "      <td>3.9</td>\n",
       "      <td>5.0</td>\n",
       "      <td>5.0</td>\n",
       "      <td>5.5</td>\n",
       "    </tr>\n",
       "    <tr>\n",
       "      <th>2</th>\n",
       "      <td>Arizona</td>\n",
       "      <td>2.9</td>\n",
       "      <td>3.0</td>\n",
       "      <td>3.5</td>\n",
       "      <td>3.4</td>\n",
       "      <td>3.6</td>\n",
       "      <td>3.9</td>\n",
       "      <td>3.9</td>\n",
       "      <td>4.3</td>\n",
       "      <td>3.9</td>\n",
       "      <td>...</td>\n",
       "      <td>4.0</td>\n",
       "      <td>4.2</td>\n",
       "      <td>4.3</td>\n",
       "      <td>4.4</td>\n",
       "      <td>4.8</td>\n",
       "      <td>4.0</td>\n",
       "      <td>4.6</td>\n",
       "      <td>4.6</td>\n",
       "      <td>6.2</td>\n",
       "      <td>6.9</td>\n",
       "    </tr>\n",
       "    <tr>\n",
       "      <th>3</th>\n",
       "      <td>Arkansas</td>\n",
       "      <td>4.0</td>\n",
       "      <td>4.1</td>\n",
       "      <td>3.7</td>\n",
       "      <td>3.9</td>\n",
       "      <td>4.8</td>\n",
       "      <td>4.8</td>\n",
       "      <td>5.0</td>\n",
       "      <td>5.3</td>\n",
       "      <td>5.3</td>\n",
       "      <td>...</td>\n",
       "      <td>5.8</td>\n",
       "      <td>6.0</td>\n",
       "      <td>6.1</td>\n",
       "      <td>6.0</td>\n",
       "      <td>6.2</td>\n",
       "      <td>6.2</td>\n",
       "      <td>6.4</td>\n",
       "      <td>6.2</td>\n",
       "      <td>6.3</td>\n",
       "      <td>6.9</td>\n",
       "    </tr>\n",
       "    <tr>\n",
       "      <th>4</th>\n",
       "      <td>California</td>\n",
       "      <td>NaN</td>\n",
       "      <td>NaN</td>\n",
       "      <td>NaN</td>\n",
       "      <td>NaN</td>\n",
       "      <td>NaN</td>\n",
       "      <td>NaN</td>\n",
       "      <td>NaN</td>\n",
       "      <td>NaN</td>\n",
       "      <td>NaN</td>\n",
       "      <td>...</td>\n",
       "      <td>NaN</td>\n",
       "      <td>NaN</td>\n",
       "      <td>NaN</td>\n",
       "      <td>NaN</td>\n",
       "      <td>NaN</td>\n",
       "      <td>NaN</td>\n",
       "      <td>NaN</td>\n",
       "      <td>NaN</td>\n",
       "      <td>NaN</td>\n",
       "      <td>4.3</td>\n",
       "    </tr>\n",
       "  </tbody>\n",
       "</table>\n",
       "<p>5 rows × 24 columns</p>\n",
       "</div>"
      ],
      "text/plain": [
       "        State  2019  2018  2017  2016  2015  2014  2013  2012  2011  ...  \\\n",
       "0     Alabama   3.6   3.7   3.7   3.8   3.9   3.8   3.7   3.6   4.3  ...   \n",
       "1      Alaska   3.6   3.7   3.6   3.9   4.1   4.0   4.5   4.5   4.8  ...   \n",
       "2     Arizona   2.9   3.0   3.5   3.4   3.6   3.9   3.9   4.3   3.9  ...   \n",
       "3    Arkansas   4.0   4.1   3.7   3.9   4.8   4.8   5.0   5.3   5.3  ...   \n",
       "4  California   NaN   NaN   NaN   NaN   NaN   NaN   NaN   NaN   NaN  ...   \n",
       "\n",
       "   2006  2005  2004  2003  2002  2001  2000  1999  1995  1990  \n",
       "0   4.9   4.9   4.9   5.2   5.4   5.4   5.5   5.7   6.0   6.1  \n",
       "1   4.2   4.3   4.3   3.9   4.6   4.3   3.9   5.0   5.0   5.5  \n",
       "2   4.0   4.2   4.3   4.4   4.8   4.0   4.6   4.6   6.2   6.9  \n",
       "3   5.8   6.0   6.1   6.0   6.2   6.2   6.4   6.2   6.3   6.9  \n",
       "4   NaN   NaN   NaN   NaN   NaN   NaN   NaN   NaN   NaN   4.3  \n",
       "\n",
       "[5 rows x 24 columns]"
      ]
     },
     "execution_count": 8,
     "metadata": {},
     "output_type": "execute_result"
    }
   ],
   "source": [
    "df_dr.head(5)"
   ]
  },
  {
   "cell_type": "code",
   "execution_count": 9,
   "metadata": {},
   "outputs": [
    {
     "data": {
      "text/plain": [
       "Index(['State', '2019', '2018', '2017', '2016', '2015', '2014', '2013', '2012',\n",
       "       '2011', '2010', '2009', '2008', '2007', '2006', '2005', '2004', '2003',\n",
       "       '2002', '2001', '2000', '1999', '1995', '1990'],\n",
       "      dtype='object')"
      ]
     },
     "execution_count": 9,
     "metadata": {},
     "output_type": "execute_result"
    }
   ],
   "source": [
    "df_dr.columns"
   ]
  },
  {
   "cell_type": "code",
   "execution_count": 10,
   "metadata": {},
   "outputs": [
    {
     "data": {
      "text/html": [
       "<div>\n",
       "<style scoped>\n",
       "    .dataframe tbody tr th:only-of-type {\n",
       "        vertical-align: middle;\n",
       "    }\n",
       "\n",
       "    .dataframe tbody tr th {\n",
       "        vertical-align: top;\n",
       "    }\n",
       "\n",
       "    .dataframe thead th {\n",
       "        text-align: right;\n",
       "    }\n",
       "</style>\n",
       "<table border=\"1\" class=\"dataframe\">\n",
       "  <thead>\n",
       "    <tr style=\"text-align: right;\">\n",
       "      <th></th>\n",
       "      <th>State</th>\n",
       "      <th>2019</th>\n",
       "      <th>2018</th>\n",
       "      <th>2017</th>\n",
       "      <th>2016</th>\n",
       "      <th>2015</th>\n",
       "      <th>2014</th>\n",
       "      <th>2013</th>\n",
       "      <th>2012</th>\n",
       "      <th>2011</th>\n",
       "      <th>...</th>\n",
       "      <th>2006</th>\n",
       "      <th>2005</th>\n",
       "      <th>2004</th>\n",
       "      <th>2003</th>\n",
       "      <th>2002</th>\n",
       "      <th>2001</th>\n",
       "      <th>2000</th>\n",
       "      <th>1999</th>\n",
       "      <th>1995</th>\n",
       "      <th>1990</th>\n",
       "    </tr>\n",
       "  </thead>\n",
       "  <tbody>\n",
       "    <tr>\n",
       "      <th>0</th>\n",
       "      <td>Alabama</td>\n",
       "      <td>3.6</td>\n",
       "      <td>3.7</td>\n",
       "      <td>3.7</td>\n",
       "      <td>3.8</td>\n",
       "      <td>3.9</td>\n",
       "      <td>3.8</td>\n",
       "      <td>3.7</td>\n",
       "      <td>3.6</td>\n",
       "      <td>4.3</td>\n",
       "      <td>...</td>\n",
       "      <td>4.9</td>\n",
       "      <td>4.9</td>\n",
       "      <td>4.9</td>\n",
       "      <td>5.2</td>\n",
       "      <td>5.4</td>\n",
       "      <td>5.4</td>\n",
       "      <td>5.5</td>\n",
       "      <td>5.7</td>\n",
       "      <td>6.0</td>\n",
       "      <td>6.1</td>\n",
       "    </tr>\n",
       "    <tr>\n",
       "      <th>1</th>\n",
       "      <td>Alaska</td>\n",
       "      <td>3.6</td>\n",
       "      <td>3.7</td>\n",
       "      <td>3.6</td>\n",
       "      <td>3.9</td>\n",
       "      <td>4.1</td>\n",
       "      <td>4.0</td>\n",
       "      <td>4.5</td>\n",
       "      <td>4.5</td>\n",
       "      <td>4.8</td>\n",
       "      <td>...</td>\n",
       "      <td>4.2</td>\n",
       "      <td>4.3</td>\n",
       "      <td>4.3</td>\n",
       "      <td>3.9</td>\n",
       "      <td>4.6</td>\n",
       "      <td>4.3</td>\n",
       "      <td>3.9</td>\n",
       "      <td>5.0</td>\n",
       "      <td>5.0</td>\n",
       "      <td>5.5</td>\n",
       "    </tr>\n",
       "    <tr>\n",
       "      <th>2</th>\n",
       "      <td>Arizona</td>\n",
       "      <td>2.9</td>\n",
       "      <td>3.0</td>\n",
       "      <td>3.5</td>\n",
       "      <td>3.4</td>\n",
       "      <td>3.6</td>\n",
       "      <td>3.9</td>\n",
       "      <td>3.9</td>\n",
       "      <td>4.3</td>\n",
       "      <td>3.9</td>\n",
       "      <td>...</td>\n",
       "      <td>4.0</td>\n",
       "      <td>4.2</td>\n",
       "      <td>4.3</td>\n",
       "      <td>4.4</td>\n",
       "      <td>4.8</td>\n",
       "      <td>4.0</td>\n",
       "      <td>4.6</td>\n",
       "      <td>4.6</td>\n",
       "      <td>6.2</td>\n",
       "      <td>6.9</td>\n",
       "    </tr>\n",
       "    <tr>\n",
       "      <th>3</th>\n",
       "      <td>Arkansas</td>\n",
       "      <td>4.0</td>\n",
       "      <td>4.1</td>\n",
       "      <td>3.7</td>\n",
       "      <td>3.9</td>\n",
       "      <td>4.8</td>\n",
       "      <td>4.8</td>\n",
       "      <td>5.0</td>\n",
       "      <td>5.3</td>\n",
       "      <td>5.3</td>\n",
       "      <td>...</td>\n",
       "      <td>5.8</td>\n",
       "      <td>6.0</td>\n",
       "      <td>6.1</td>\n",
       "      <td>6.0</td>\n",
       "      <td>6.2</td>\n",
       "      <td>6.2</td>\n",
       "      <td>6.4</td>\n",
       "      <td>6.2</td>\n",
       "      <td>6.3</td>\n",
       "      <td>6.9</td>\n",
       "    </tr>\n",
       "    <tr>\n",
       "      <th>4</th>\n",
       "      <td>California</td>\n",
       "      <td>NaN</td>\n",
       "      <td>NaN</td>\n",
       "      <td>NaN</td>\n",
       "      <td>NaN</td>\n",
       "      <td>NaN</td>\n",
       "      <td>NaN</td>\n",
       "      <td>NaN</td>\n",
       "      <td>NaN</td>\n",
       "      <td>NaN</td>\n",
       "      <td>...</td>\n",
       "      <td>NaN</td>\n",
       "      <td>NaN</td>\n",
       "      <td>NaN</td>\n",
       "      <td>NaN</td>\n",
       "      <td>NaN</td>\n",
       "      <td>NaN</td>\n",
       "      <td>NaN</td>\n",
       "      <td>NaN</td>\n",
       "      <td>NaN</td>\n",
       "      <td>4.3</td>\n",
       "    </tr>\n",
       "  </tbody>\n",
       "</table>\n",
       "<p>5 rows × 24 columns</p>\n",
       "</div>"
      ],
      "text/plain": [
       "        State  2019  2018  2017  2016  2015  2014  2013  2012  2011  ...  \\\n",
       "0     Alabama   3.6   3.7   3.7   3.8   3.9   3.8   3.7   3.6   4.3  ...   \n",
       "1      Alaska   3.6   3.7   3.6   3.9   4.1   4.0   4.5   4.5   4.8  ...   \n",
       "2     Arizona   2.9   3.0   3.5   3.4   3.6   3.9   3.9   4.3   3.9  ...   \n",
       "3    Arkansas   4.0   4.1   3.7   3.9   4.8   4.8   5.0   5.3   5.3  ...   \n",
       "4  California   NaN   NaN   NaN   NaN   NaN   NaN   NaN   NaN   NaN  ...   \n",
       "\n",
       "   2006  2005  2004  2003  2002  2001  2000  1999  1995  1990  \n",
       "0   4.9   4.9   4.9   5.2   5.4   5.4   5.5   5.7   6.0   6.1  \n",
       "1   4.2   4.3   4.3   3.9   4.6   4.3   3.9   5.0   5.0   5.5  \n",
       "2   4.0   4.2   4.3   4.4   4.8   4.0   4.6   4.6   6.2   6.9  \n",
       "3   5.8   6.0   6.1   6.0   6.2   6.2   6.4   6.2   6.3   6.9  \n",
       "4   NaN   NaN   NaN   NaN   NaN   NaN   NaN   NaN   NaN   4.3  \n",
       "\n",
       "[5 rows x 24 columns]"
      ]
     },
     "execution_count": 10,
     "metadata": {},
     "output_type": "execute_result"
    }
   ],
   "source": [
    "df_dr= df_dr.iloc[:,0:24]\n",
    "df_dr.head()"
   ]
  },
  {
   "cell_type": "code",
   "execution_count": 11,
   "metadata": {},
   "outputs": [
    {
     "data": {
      "text/plain": [
       "Index(['State', 'Y_2019', 'Y_2018', 'Y_2017', 'Y_2016', 'Y_2015', 'Y_2014',\n",
       "       'Y_2013', 'Y_2012', 'Y_2011', 'Y_2010', 'Y_2009', 'Y_2008', 'Y_2007',\n",
       "       'Y_2006', 'Y_2005', 'Y_2004', 'Y_2003', 'Y_2002', 'Y_2001', 'Y_2000',\n",
       "       'Y_1999', 'Y_1995', 'Y_1990'],\n",
       "      dtype='object')"
      ]
     },
     "execution_count": 11,
     "metadata": {},
     "output_type": "execute_result"
    }
   ],
   "source": [
    "# convert the float to strings for divorce rates\n",
    "df_dr.columns = ['State']+['Y_'+str(col) for col in df_dr.columns if col != 'State']\n",
    "df_dr.columns"
   ]
  },
  {
   "cell_type": "code",
   "execution_count": 12,
   "metadata": {},
   "outputs": [
    {
     "data": {
      "text/html": [
       "<div>\n",
       "<style scoped>\n",
       "    .dataframe tbody tr th:only-of-type {\n",
       "        vertical-align: middle;\n",
       "    }\n",
       "\n",
       "    .dataframe tbody tr th {\n",
       "        vertical-align: top;\n",
       "    }\n",
       "\n",
       "    .dataframe thead th {\n",
       "        text-align: right;\n",
       "    }\n",
       "</style>\n",
       "<table border=\"1\" class=\"dataframe\">\n",
       "  <thead>\n",
       "    <tr style=\"text-align: right;\">\n",
       "      <th></th>\n",
       "      <th>State</th>\n",
       "      <th>Y_2019</th>\n",
       "      <th>Y_2018</th>\n",
       "      <th>Y_2017</th>\n",
       "      <th>Y_2016</th>\n",
       "      <th>Y_2015</th>\n",
       "      <th>Y_2014</th>\n",
       "      <th>Y_2013</th>\n",
       "      <th>Y_2012</th>\n",
       "      <th>Y_2011</th>\n",
       "      <th>...</th>\n",
       "      <th>Y_2006</th>\n",
       "      <th>Y_2005</th>\n",
       "      <th>Y_2004</th>\n",
       "      <th>Y_2003</th>\n",
       "      <th>Y_2002</th>\n",
       "      <th>Y_2001</th>\n",
       "      <th>Y_2000</th>\n",
       "      <th>Y_1999</th>\n",
       "      <th>Y_1995</th>\n",
       "      <th>Y_1990</th>\n",
       "    </tr>\n",
       "  </thead>\n",
       "  <tbody>\n",
       "    <tr>\n",
       "      <th>10</th>\n",
       "      <td>Georgia</td>\n",
       "      <td>6.0</td>\n",
       "      <td>6.4</td>\n",
       "      <td>6.9</td>\n",
       "      <td>6.8</td>\n",
       "      <td>6.2</td>\n",
       "      <td>NaN</td>\n",
       "      <td>NaN</td>\n",
       "      <td>6.5</td>\n",
       "      <td>6.6</td>\n",
       "      <td>...</td>\n",
       "      <td>7.3</td>\n",
       "      <td>7.0</td>\n",
       "      <td>7.9</td>\n",
       "      <td>7.0</td>\n",
       "      <td>6.5</td>\n",
       "      <td>6.1</td>\n",
       "      <td>6.8</td>\n",
       "      <td>7.8</td>\n",
       "      <td>8.4</td>\n",
       "      <td>10.3</td>\n",
       "    </tr>\n",
       "    <tr>\n",
       "      <th>18</th>\n",
       "      <td>Louisiana</td>\n",
       "      <td>5.1</td>\n",
       "      <td>5.1</td>\n",
       "      <td>5.6</td>\n",
       "      <td>6.1</td>\n",
       "      <td>6.8</td>\n",
       "      <td>6.9</td>\n",
       "      <td>6.4</td>\n",
       "      <td>5.7</td>\n",
       "      <td>6.4</td>\n",
       "      <td>...</td>\n",
       "      <td>NaN</td>\n",
       "      <td>8.0</td>\n",
       "      <td>8.0</td>\n",
       "      <td>8.2</td>\n",
       "      <td>8.1</td>\n",
       "      <td>8.4</td>\n",
       "      <td>9.1</td>\n",
       "      <td>9.1</td>\n",
       "      <td>9.3</td>\n",
       "      <td>9.6</td>\n",
       "    </tr>\n",
       "    <tr>\n",
       "      <th>36</th>\n",
       "      <td>Oklahoma</td>\n",
       "      <td>6.3</td>\n",
       "      <td>6.4</td>\n",
       "      <td>6.8</td>\n",
       "      <td>6.7</td>\n",
       "      <td>7.4</td>\n",
       "      <td>7.1</td>\n",
       "      <td>7.1</td>\n",
       "      <td>6.9</td>\n",
       "      <td>6.9</td>\n",
       "      <td>...</td>\n",
       "      <td>7.3</td>\n",
       "      <td>7.3</td>\n",
       "      <td>6.5</td>\n",
       "      <td>NaN</td>\n",
       "      <td>NaN</td>\n",
       "      <td>NaN</td>\n",
       "      <td>NaN</td>\n",
       "      <td>6.8</td>\n",
       "      <td>8.6</td>\n",
       "      <td>10.6</td>\n",
       "    </tr>\n",
       "  </tbody>\n",
       "</table>\n",
       "<p>3 rows × 24 columns</p>\n",
       "</div>"
      ],
      "text/plain": [
       "        State  Y_2019  Y_2018  Y_2017  Y_2016  Y_2015  Y_2014  Y_2013  Y_2012  \\\n",
       "10    Georgia     6.0     6.4     6.9     6.8     6.2     NaN     NaN     6.5   \n",
       "18  Louisiana     5.1     5.1     5.6     6.1     6.8     6.9     6.4     5.7   \n",
       "36   Oklahoma     6.3     6.4     6.8     6.7     7.4     7.1     7.1     6.9   \n",
       "\n",
       "    Y_2011  ...  Y_2006  Y_2005  Y_2004  Y_2003  Y_2002  Y_2001  Y_2000  \\\n",
       "10     6.6  ...     7.3     7.0     7.9     7.0     6.5     6.1     6.8   \n",
       "18     6.4  ...     NaN     8.0     8.0     8.2     8.1     8.4     9.1   \n",
       "36     6.9  ...     7.3     7.3     6.5     NaN     NaN     NaN     NaN   \n",
       "\n",
       "    Y_1999  Y_1995  Y_1990  \n",
       "10     7.8     8.4    10.3  \n",
       "18     9.1     9.3     9.6  \n",
       "36     6.8     8.6    10.6  \n",
       "\n",
       "[3 rows x 24 columns]"
      ]
     },
     "execution_count": 12,
     "metadata": {},
     "output_type": "execute_result"
    }
   ],
   "source": [
    "missing_mrdata_rows = df_mr[df_mr.isnull().any(1)]\n",
    "missing_mrdata_rows"
   ]
  },
  {
   "cell_type": "code",
   "execution_count": 13,
   "metadata": {},
   "outputs": [],
   "source": [
    "gamr = missing_mrdata_rows.iloc[0][1:]\n",
    "lamr = missing_mrdata_rows.iloc[1][1:]\n",
    "okmr = missing_mrdata_rows.iloc[2][1:]\n",
    "gamr_index, lamr_index, okmr_index = 10, 18, 36"
   ]
  },
  {
   "cell_type": "code",
   "execution_count": 14,
   "metadata": {},
   "outputs": [
    {
     "data": {
      "text/plain": [
       "<AxesSubplot:>"
      ]
     },
     "execution_count": 14,
     "metadata": {},
     "output_type": "execute_result"
    },
    {
     "data": {
      "image/png": "[encoded data removed]",
      "text/plain": [
       "<Figure size 432x288 with 1 Axes>"
      ]
     },
     "metadata": {
      "needs_background": "light"
     },
     "output_type": "display_data"
    }
   ],
   "source": [
    "# plot the mr for Georgia\n",
    "gamr.plot()"
   ]
  },
  {
   "cell_type": "code",
   "execution_count": 15,
   "metadata": {},
   "outputs": [
    {
     "data": {
      "text/plain": [
       "<AxesSubplot:>"
      ]
     },
     "execution_count": 15,
     "metadata": {},
     "output_type": "execute_result"
    },
    {
     "data": {
      "image/png": "[encoded data removed]",
      "text/plain": [
       "<Figure size 432x288 with 1 Axes>"
      ]
     },
     "metadata": {
      "needs_background": "light"
     },
     "output_type": "display_data"
    }
   ],
   "source": [
    "gamr_clean_df = gamr.astype(float).interpolate()\n",
    "gamr_clean_df.plot()"
   ]
  },
  {
   "cell_type": "code",
   "execution_count": 16,
   "metadata": {},
   "outputs": [
    {
     "data": {
      "text/plain": [
       "<AxesSubplot:>"
      ]
     },
     "execution_count": 16,
     "metadata": {},
     "output_type": "execute_result"
    },
    {
     "data": {
      "image/png": "[encoded data removed]",
      "text/plain": [
       "<Figure size 432x288 with 1 Axes>"
      ]
     },
     "metadata": {
      "needs_background": "light"
     },
     "output_type": "display_data"
    }
   ],
   "source": [
    "# plot the mr for Louisiana\n",
    "lamr.plot()"
   ]
  },
  {
   "cell_type": "code",
   "execution_count": 17,
   "metadata": {},
   "outputs": [
    {
     "data": {
      "text/plain": [
       "<AxesSubplot:>"
      ]
     },
     "execution_count": 17,
     "metadata": {},
     "output_type": "execute_result"
    },
    {
     "data": {
      "image/png": "[encoded data removed]",
      "text/plain": [
       "<Figure size 432x288 with 1 Axes>"
      ]
     },
     "metadata": {
      "needs_background": "light"
     },
     "output_type": "display_data"
    }
   ],
   "source": [
    "lamr_clean_df = lamr.astype(float).interpolate()\n",
    "lamr_clean_df.plot()"
   ]
  },
  {
   "cell_type": "code",
   "execution_count": 18,
   "metadata": {},
   "outputs": [
    {
     "data": {
      "text/plain": [
       "<AxesSubplot:>"
      ]
     },
     "execution_count": 18,
     "metadata": {},
     "output_type": "execute_result"
    },
    {
     "data": {
      "image/png": "[encoded data removed]",
      "text/plain": [
       "<Figure size 432x288 with 1 Axes>"
      ]
     },
     "metadata": {
      "needs_background": "light"
     },
     "output_type": "display_data"
    }
   ],
   "source": [
    "# plot the mr for Oklahoma\n",
    "okmr.plot()"
   ]
  },
  {
   "cell_type": "code",
   "execution_count": 19,
   "metadata": {},
   "outputs": [
    {
     "data": {
      "text/plain": [
       "<AxesSubplot:>"
      ]
     },
     "execution_count": 19,
     "metadata": {},
     "output_type": "execute_result"
    },
    {
     "data": {
      "image/png": "[encoded data removed]",
      "text/plain": [
       "<Figure size 432x288 with 1 Axes>"
      ]
     },
     "metadata": {
      "needs_background": "light"
     },
     "output_type": "display_data"
    }
   ],
   "source": [
    "okmr_clean_df = okmr.astype(float).interpolate()\n",
    "okmr_clean_df.plot()"
   ]
  },
  {
   "cell_type": "code",
   "execution_count": 20,
   "metadata": {},
   "outputs": [],
   "source": [
    "# assign the clean data to the states that have missing mr data\n",
    "df_mr.iloc[gamr_index, 1:]= gamr_clean_df.values\n",
    "df_mr.iloc[lamr_index, 1:]= lamr_clean_df.values\n",
    "df_mr.iloc[okmr_index, 1:]= okmr_clean_df.values"
   ]
  },
  {
   "cell_type": "code",
   "execution_count": 21,
   "metadata": {},
   "outputs": [
    {
     "data": {
      "text/html": [
       "<div>\n",
       "<style scoped>\n",
       "    .dataframe tbody tr th:only-of-type {\n",
       "        vertical-align: middle;\n",
       "    }\n",
       "\n",
       "    .dataframe tbody tr th {\n",
       "        vertical-align: top;\n",
       "    }\n",
       "\n",
       "    .dataframe thead th {\n",
       "        text-align: right;\n",
       "    }\n",
       "</style>\n",
       "<table border=\"1\" class=\"dataframe\">\n",
       "  <thead>\n",
       "    <tr style=\"text-align: right;\">\n",
       "      <th></th>\n",
       "      <th>State</th>\n",
       "      <th>Y_2019</th>\n",
       "      <th>Y_2018</th>\n",
       "      <th>Y_2017</th>\n",
       "      <th>Y_2016</th>\n",
       "      <th>Y_2015</th>\n",
       "      <th>Y_2014</th>\n",
       "      <th>Y_2013</th>\n",
       "      <th>Y_2012</th>\n",
       "      <th>Y_2011</th>\n",
       "      <th>...</th>\n",
       "      <th>Y_2006</th>\n",
       "      <th>Y_2005</th>\n",
       "      <th>Y_2004</th>\n",
       "      <th>Y_2003</th>\n",
       "      <th>Y_2002</th>\n",
       "      <th>Y_2001</th>\n",
       "      <th>Y_2000</th>\n",
       "      <th>Y_1999</th>\n",
       "      <th>Y_1995</th>\n",
       "      <th>Y_1990</th>\n",
       "    </tr>\n",
       "  </thead>\n",
       "  <tbody>\n",
       "  </tbody>\n",
       "</table>\n",
       "<p>0 rows × 24 columns</p>\n",
       "</div>"
      ],
      "text/plain": [
       "Empty DataFrame\n",
       "Columns: [State, Y_2019, Y_2018, Y_2017, Y_2016, Y_2015, Y_2014, Y_2013, Y_2012, Y_2011, Y_2010, Y_2009, Y_2008, Y_2007, Y_2006, Y_2005, Y_2004, Y_2003, Y_2002, Y_2001, Y_2000, Y_1999, Y_1995, Y_1990]\n",
       "Index: []\n",
       "\n",
       "[0 rows x 24 columns]"
      ]
     },
     "execution_count": 21,
     "metadata": {},
     "output_type": "execute_result"
    }
   ],
   "source": [
    "# check if the missing mr datapoints still exist \n",
    "check_missingmr_data_rows = df_mr[df_mr.isnull().any(1)]\n",
    "check_missingmr_data_rows"
   ]
  },
  {
   "cell_type": "code",
   "execution_count": 22,
   "metadata": {},
   "outputs": [
    {
     "data": {
      "text/html": [
       "<div>\n",
       "<style scoped>\n",
       "    .dataframe tbody tr th:only-of-type {\n",
       "        vertical-align: middle;\n",
       "    }\n",
       "\n",
       "    .dataframe tbody tr th {\n",
       "        vertical-align: top;\n",
       "    }\n",
       "\n",
       "    .dataframe thead th {\n",
       "        text-align: right;\n",
       "    }\n",
       "</style>\n",
       "<table border=\"1\" class=\"dataframe\">\n",
       "  <thead>\n",
       "    <tr style=\"text-align: right;\">\n",
       "      <th></th>\n",
       "      <th>State</th>\n",
       "      <th>Y_2019</th>\n",
       "      <th>Y_2018</th>\n",
       "      <th>Y_2017</th>\n",
       "      <th>Y_2016</th>\n",
       "      <th>Y_2015</th>\n",
       "      <th>Y_2014</th>\n",
       "      <th>Y_2013</th>\n",
       "      <th>Y_2012</th>\n",
       "      <th>Y_2011</th>\n",
       "      <th>...</th>\n",
       "      <th>Y_2006</th>\n",
       "      <th>Y_2005</th>\n",
       "      <th>Y_2004</th>\n",
       "      <th>Y_2003</th>\n",
       "      <th>Y_2002</th>\n",
       "      <th>Y_2001</th>\n",
       "      <th>Y_2000</th>\n",
       "      <th>Y_1999</th>\n",
       "      <th>Y_1995</th>\n",
       "      <th>Y_1990</th>\n",
       "    </tr>\n",
       "  </thead>\n",
       "  <tbody>\n",
       "    <tr>\n",
       "      <th>0</th>\n",
       "      <td>Alabama</td>\n",
       "      <td>6.7</td>\n",
       "      <td>6.8</td>\n",
       "      <td>7.0</td>\n",
       "      <td>7.1</td>\n",
       "      <td>7.4</td>\n",
       "      <td>7.8</td>\n",
       "      <td>7.8</td>\n",
       "      <td>8.2</td>\n",
       "      <td>8.4</td>\n",
       "      <td>...</td>\n",
       "      <td>9.2</td>\n",
       "      <td>9.2</td>\n",
       "      <td>9.4</td>\n",
       "      <td>9.6</td>\n",
       "      <td>9.9</td>\n",
       "      <td>9.4</td>\n",
       "      <td>10.1</td>\n",
       "      <td>10.8</td>\n",
       "      <td>9.8</td>\n",
       "      <td>10.6</td>\n",
       "    </tr>\n",
       "    <tr>\n",
       "      <th>1</th>\n",
       "      <td>Alaska</td>\n",
       "      <td>6.5</td>\n",
       "      <td>6.7</td>\n",
       "      <td>6.9</td>\n",
       "      <td>7.1</td>\n",
       "      <td>7.4</td>\n",
       "      <td>7.5</td>\n",
       "      <td>7.3</td>\n",
       "      <td>7.2</td>\n",
       "      <td>7.8</td>\n",
       "      <td>...</td>\n",
       "      <td>8.2</td>\n",
       "      <td>8.2</td>\n",
       "      <td>8.5</td>\n",
       "      <td>8.1</td>\n",
       "      <td>8.3</td>\n",
       "      <td>8.1</td>\n",
       "      <td>8.9</td>\n",
       "      <td>8.6</td>\n",
       "      <td>9.0</td>\n",
       "      <td>10.2</td>\n",
       "    </tr>\n",
       "    <tr>\n",
       "      <th>2</th>\n",
       "      <td>Arizona</td>\n",
       "      <td>5.3</td>\n",
       "      <td>5.5</td>\n",
       "      <td>5.8</td>\n",
       "      <td>5.9</td>\n",
       "      <td>5.9</td>\n",
       "      <td>5.8</td>\n",
       "      <td>5.4</td>\n",
       "      <td>5.6</td>\n",
       "      <td>5.7</td>\n",
       "      <td>...</td>\n",
       "      <td>6.5</td>\n",
       "      <td>6.6</td>\n",
       "      <td>6.7</td>\n",
       "      <td>6.5</td>\n",
       "      <td>6.7</td>\n",
       "      <td>7.6</td>\n",
       "      <td>7.5</td>\n",
       "      <td>8.2</td>\n",
       "      <td>8.8</td>\n",
       "      <td>10.0</td>\n",
       "    </tr>\n",
       "    <tr>\n",
       "      <th>3</th>\n",
       "      <td>Arkansas</td>\n",
       "      <td>8.4</td>\n",
       "      <td>8.9</td>\n",
       "      <td>9.5</td>\n",
       "      <td>9.9</td>\n",
       "      <td>10.0</td>\n",
       "      <td>10.1</td>\n",
       "      <td>9.8</td>\n",
       "      <td>10.9</td>\n",
       "      <td>10.4</td>\n",
       "      <td>...</td>\n",
       "      <td>12.4</td>\n",
       "      <td>12.9</td>\n",
       "      <td>13.4</td>\n",
       "      <td>13.4</td>\n",
       "      <td>14.3</td>\n",
       "      <td>14.3</td>\n",
       "      <td>15.4</td>\n",
       "      <td>14.8</td>\n",
       "      <td>14.4</td>\n",
       "      <td>15.3</td>\n",
       "    </tr>\n",
       "    <tr>\n",
       "      <th>4</th>\n",
       "      <td>California</td>\n",
       "      <td>5.7</td>\n",
       "      <td>6.0</td>\n",
       "      <td>6.3</td>\n",
       "      <td>6.5</td>\n",
       "      <td>6.2</td>\n",
       "      <td>6.4</td>\n",
       "      <td>6.5</td>\n",
       "      <td>6.0</td>\n",
       "      <td>5.8</td>\n",
       "      <td>...</td>\n",
       "      <td>6.3</td>\n",
       "      <td>6.4</td>\n",
       "      <td>6.4</td>\n",
       "      <td>6.1</td>\n",
       "      <td>6.2</td>\n",
       "      <td>6.5</td>\n",
       "      <td>5.8</td>\n",
       "      <td>6.4</td>\n",
       "      <td>6.3</td>\n",
       "      <td>7.9</td>\n",
       "    </tr>\n",
       "  </tbody>\n",
       "</table>\n",
       "<p>5 rows × 24 columns</p>\n",
       "</div>"
      ],
      "text/plain": [
       "        State  Y_2019  Y_2018  Y_2017  Y_2016  Y_2015  Y_2014  Y_2013  Y_2012  \\\n",
       "0     Alabama     6.7     6.8     7.0     7.1     7.4     7.8     7.8     8.2   \n",
       "1      Alaska     6.5     6.7     6.9     7.1     7.4     7.5     7.3     7.2   \n",
       "2     Arizona     5.3     5.5     5.8     5.9     5.9     5.8     5.4     5.6   \n",
       "3    Arkansas     8.4     8.9     9.5     9.9    10.0    10.1     9.8    10.9   \n",
       "4  California     5.7     6.0     6.3     6.5     6.2     6.4     6.5     6.0   \n",
       "\n",
       "   Y_2011  ...  Y_2006  Y_2005  Y_2004  Y_2003  Y_2002  Y_2001  Y_2000  \\\n",
       "0     8.4  ...     9.2     9.2     9.4     9.6     9.9     9.4    10.1   \n",
       "1     7.8  ...     8.2     8.2     8.5     8.1     8.3     8.1     8.9   \n",
       "2     5.7  ...     6.5     6.6     6.7     6.5     6.7     7.6     7.5   \n",
       "3    10.4  ...    12.4    12.9    13.4    13.4    14.3    14.3    15.4   \n",
       "4     5.8  ...     6.3     6.4     6.4     6.1     6.2     6.5     5.8   \n",
       "\n",
       "   Y_1999  Y_1995  Y_1990  \n",
       "0    10.8     9.8    10.6  \n",
       "1     8.6     9.0    10.2  \n",
       "2     8.2     8.8    10.0  \n",
       "3    14.8    14.4    15.3  \n",
       "4     6.4     6.3     7.9  \n",
       "\n",
       "[5 rows x 24 columns]"
      ]
     },
     "execution_count": 22,
     "metadata": {},
     "output_type": "execute_result"
    }
   ],
   "source": [
    "df_mr.head()"
   ]
  },
  {
   "cell_type": "code",
   "execution_count": 23,
   "metadata": {},
   "outputs": [
    {
     "data": {
      "text/plain": [
       "Index(['State', 'Y_2019', 'Y_2018', 'Y_2017', 'Y_2016', 'Y_2015', 'Y_2014',\n",
       "       'Y_2013', 'Y_2012', 'Y_2011', 'Y_2010', 'Y_2009', 'Y_2008', 'Y_2007',\n",
       "       'Y_2006', 'Y_2005', 'Y_2004', 'Y_2003', 'Y_2002', 'Y_2001', 'Y_2000',\n",
       "       'Y_1999', 'Y_1995', 'Y_1990'],\n",
       "      dtype='object')"
      ]
     },
     "execution_count": 23,
     "metadata": {},
     "output_type": "execute_result"
    }
   ],
   "source": [
    "df_mr.columns"
   ]
  },
  {
   "cell_type": "code",
   "execution_count": 24,
   "metadata": {},
   "outputs": [
    {
     "data": {
      "text/html": [
       "<div>\n",
       "<style scoped>\n",
       "    .dataframe tbody tr th:only-of-type {\n",
       "        vertical-align: middle;\n",
       "    }\n",
       "\n",
       "    .dataframe tbody tr th {\n",
       "        vertical-align: top;\n",
       "    }\n",
       "\n",
       "    .dataframe thead th {\n",
       "        text-align: right;\n",
       "    }\n",
       "</style>\n",
       "<table border=\"1\" class=\"dataframe\">\n",
       "  <thead>\n",
       "    <tr style=\"text-align: right;\">\n",
       "      <th></th>\n",
       "      <th>State</th>\n",
       "      <th>Y_2019</th>\n",
       "      <th>Y_2018</th>\n",
       "      <th>Y_2017</th>\n",
       "      <th>Y_2016</th>\n",
       "      <th>Y_2015</th>\n",
       "      <th>Y_2014</th>\n",
       "      <th>Y_2013</th>\n",
       "      <th>Y_2012</th>\n",
       "      <th>Y_2011</th>\n",
       "      <th>...</th>\n",
       "      <th>Y_2006</th>\n",
       "      <th>Y_2005</th>\n",
       "      <th>Y_2004</th>\n",
       "      <th>Y_2003</th>\n",
       "      <th>Y_2002</th>\n",
       "      <th>Y_2001</th>\n",
       "      <th>Y_2000</th>\n",
       "      <th>Y_1999</th>\n",
       "      <th>Y_1995</th>\n",
       "      <th>Y_1990</th>\n",
       "    </tr>\n",
       "  </thead>\n",
       "  <tbody>\n",
       "    <tr>\n",
       "      <th>4</th>\n",
       "      <td>California</td>\n",
       "      <td>NaN</td>\n",
       "      <td>NaN</td>\n",
       "      <td>NaN</td>\n",
       "      <td>NaN</td>\n",
       "      <td>NaN</td>\n",
       "      <td>NaN</td>\n",
       "      <td>NaN</td>\n",
       "      <td>NaN</td>\n",
       "      <td>NaN</td>\n",
       "      <td>...</td>\n",
       "      <td>NaN</td>\n",
       "      <td>NaN</td>\n",
       "      <td>NaN</td>\n",
       "      <td>NaN</td>\n",
       "      <td>NaN</td>\n",
       "      <td>NaN</td>\n",
       "      <td>NaN</td>\n",
       "      <td>NaN</td>\n",
       "      <td>NaN</td>\n",
       "      <td>4.3</td>\n",
       "    </tr>\n",
       "    <tr>\n",
       "      <th>5</th>\n",
       "      <td>Colorado</td>\n",
       "      <td>3.3</td>\n",
       "      <td>3.3</td>\n",
       "      <td>3.2</td>\n",
       "      <td>3.6</td>\n",
       "      <td>3.7</td>\n",
       "      <td>3.9</td>\n",
       "      <td>4.1</td>\n",
       "      <td>4.3</td>\n",
       "      <td>4.4</td>\n",
       "      <td>...</td>\n",
       "      <td>4.5</td>\n",
       "      <td>4.4</td>\n",
       "      <td>4.4</td>\n",
       "      <td>4.3</td>\n",
       "      <td>4.7</td>\n",
       "      <td>4.7</td>\n",
       "      <td>4.7</td>\n",
       "      <td>4.8</td>\n",
       "      <td>NaN</td>\n",
       "      <td>5.5</td>\n",
       "    </tr>\n",
       "    <tr>\n",
       "      <th>10</th>\n",
       "      <td>Georgia</td>\n",
       "      <td>2.3</td>\n",
       "      <td>2.5</td>\n",
       "      <td>3.5</td>\n",
       "      <td>NaN</td>\n",
       "      <td>NaN</td>\n",
       "      <td>NaN</td>\n",
       "      <td>NaN</td>\n",
       "      <td>NaN</td>\n",
       "      <td>NaN</td>\n",
       "      <td>...</td>\n",
       "      <td>NaN</td>\n",
       "      <td>NaN</td>\n",
       "      <td>NaN</td>\n",
       "      <td>3.2</td>\n",
       "      <td>2.5</td>\n",
       "      <td>3.1</td>\n",
       "      <td>3.3</td>\n",
       "      <td>4.1</td>\n",
       "      <td>5.1</td>\n",
       "      <td>5.5</td>\n",
       "    </tr>\n",
       "    <tr>\n",
       "      <th>11</th>\n",
       "      <td>Hawaii</td>\n",
       "      <td>NaN</td>\n",
       "      <td>NaN</td>\n",
       "      <td>NaN</td>\n",
       "      <td>NaN</td>\n",
       "      <td>NaN</td>\n",
       "      <td>NaN</td>\n",
       "      <td>NaN</td>\n",
       "      <td>NaN</td>\n",
       "      <td>NaN</td>\n",
       "      <td>...</td>\n",
       "      <td>NaN</td>\n",
       "      <td>NaN</td>\n",
       "      <td>NaN</td>\n",
       "      <td>NaN</td>\n",
       "      <td>3.7</td>\n",
       "      <td>4.0</td>\n",
       "      <td>3.9</td>\n",
       "      <td>3.8</td>\n",
       "      <td>4.6</td>\n",
       "      <td>4.6</td>\n",
       "    </tr>\n",
       "    <tr>\n",
       "      <th>14</th>\n",
       "      <td>Indiana</td>\n",
       "      <td>NaN</td>\n",
       "      <td>NaN</td>\n",
       "      <td>NaN</td>\n",
       "      <td>NaN</td>\n",
       "      <td>NaN</td>\n",
       "      <td>NaN</td>\n",
       "      <td>NaN</td>\n",
       "      <td>NaN</td>\n",
       "      <td>NaN</td>\n",
       "      <td>...</td>\n",
       "      <td>NaN</td>\n",
       "      <td>NaN</td>\n",
       "      <td>NaN</td>\n",
       "      <td>NaN</td>\n",
       "      <td>NaN</td>\n",
       "      <td>NaN</td>\n",
       "      <td>NaN</td>\n",
       "      <td>NaN</td>\n",
       "      <td>NaN</td>\n",
       "      <td>NaN</td>\n",
       "    </tr>\n",
       "    <tr>\n",
       "      <th>18</th>\n",
       "      <td>Louisiana</td>\n",
       "      <td>2.4</td>\n",
       "      <td>1.7</td>\n",
       "      <td>1.9</td>\n",
       "      <td>2.0</td>\n",
       "      <td>2.8</td>\n",
       "      <td>2.3</td>\n",
       "      <td>2.2</td>\n",
       "      <td>NaN</td>\n",
       "      <td>NaN</td>\n",
       "      <td>...</td>\n",
       "      <td>NaN</td>\n",
       "      <td>NaN</td>\n",
       "      <td>NaN</td>\n",
       "      <td>3.4</td>\n",
       "      <td>3.3</td>\n",
       "      <td>NaN</td>\n",
       "      <td>NaN</td>\n",
       "      <td>NaN</td>\n",
       "      <td>NaN</td>\n",
       "      <td>NaN</td>\n",
       "    </tr>\n",
       "    <tr>\n",
       "      <th>23</th>\n",
       "      <td>Minnesota</td>\n",
       "      <td>NaN</td>\n",
       "      <td>NaN</td>\n",
       "      <td>NaN</td>\n",
       "      <td>NaN</td>\n",
       "      <td>NaN</td>\n",
       "      <td>NaN</td>\n",
       "      <td>NaN</td>\n",
       "      <td>NaN</td>\n",
       "      <td>NaN</td>\n",
       "      <td>...</td>\n",
       "      <td>NaN</td>\n",
       "      <td>NaN</td>\n",
       "      <td>2.8</td>\n",
       "      <td>3.0</td>\n",
       "      <td>3.1</td>\n",
       "      <td>3.2</td>\n",
       "      <td>3.2</td>\n",
       "      <td>3.2</td>\n",
       "      <td>3.4</td>\n",
       "      <td>3.5</td>\n",
       "    </tr>\n",
       "    <tr>\n",
       "      <th>31</th>\n",
       "      <td>New Mexico</td>\n",
       "      <td>NaN</td>\n",
       "      <td>NaN</td>\n",
       "      <td>NaN</td>\n",
       "      <td>NaN</td>\n",
       "      <td>3.3</td>\n",
       "      <td>3.6</td>\n",
       "      <td>3.4</td>\n",
       "      <td>3.0</td>\n",
       "      <td>3.3</td>\n",
       "      <td>...</td>\n",
       "      <td>4.3</td>\n",
       "      <td>4.6</td>\n",
       "      <td>4.6</td>\n",
       "      <td>5.2</td>\n",
       "      <td>4.4</td>\n",
       "      <td>4.9</td>\n",
       "      <td>5.1</td>\n",
       "      <td>4.6</td>\n",
       "      <td>6.6</td>\n",
       "      <td>4.9</td>\n",
       "    </tr>\n",
       "    <tr>\n",
       "      <th>36</th>\n",
       "      <td>Oklahoma</td>\n",
       "      <td>3.9</td>\n",
       "      <td>3.8</td>\n",
       "      <td>4.1</td>\n",
       "      <td>4.4</td>\n",
       "      <td>4.4</td>\n",
       "      <td>4.5</td>\n",
       "      <td>4.5</td>\n",
       "      <td>4.8</td>\n",
       "      <td>5.2</td>\n",
       "      <td>...</td>\n",
       "      <td>5.3</td>\n",
       "      <td>5.6</td>\n",
       "      <td>4.9</td>\n",
       "      <td>NaN</td>\n",
       "      <td>NaN</td>\n",
       "      <td>NaN</td>\n",
       "      <td>NaN</td>\n",
       "      <td>NaN</td>\n",
       "      <td>6.6</td>\n",
       "      <td>7.7</td>\n",
       "    </tr>\n",
       "  </tbody>\n",
       "</table>\n",
       "<p>9 rows × 24 columns</p>\n",
       "</div>"
      ],
      "text/plain": [
       "         State  Y_2019  Y_2018  Y_2017  Y_2016  Y_2015  Y_2014  Y_2013  \\\n",
       "4   California     NaN     NaN     NaN     NaN     NaN     NaN     NaN   \n",
       "5     Colorado     3.3     3.3     3.2     3.6     3.7     3.9     4.1   \n",
       "10     Georgia     2.3     2.5     3.5     NaN     NaN     NaN     NaN   \n",
       "11      Hawaii     NaN     NaN     NaN     NaN     NaN     NaN     NaN   \n",
       "14     Indiana     NaN     NaN     NaN     NaN     NaN     NaN     NaN   \n",
       "18   Louisiana     2.4     1.7     1.9     2.0     2.8     2.3     2.2   \n",
       "23   Minnesota     NaN     NaN     NaN     NaN     NaN     NaN     NaN   \n",
       "31  New Mexico     NaN     NaN     NaN     NaN     3.3     3.6     3.4   \n",
       "36    Oklahoma     3.9     3.8     4.1     4.4     4.4     4.5     4.5   \n",
       "\n",
       "    Y_2012  Y_2011  ...  Y_2006  Y_2005  Y_2004  Y_2003  Y_2002  Y_2001  \\\n",
       "4      NaN     NaN  ...     NaN     NaN     NaN     NaN     NaN     NaN   \n",
       "5      4.3     4.4  ...     4.5     4.4     4.4     4.3     4.7     4.7   \n",
       "10     NaN     NaN  ...     NaN     NaN     NaN     3.2     2.5     3.1   \n",
       "11     NaN     NaN  ...     NaN     NaN     NaN     NaN     3.7     4.0   \n",
       "14     NaN     NaN  ...     NaN     NaN     NaN     NaN     NaN     NaN   \n",
       "18     NaN     NaN  ...     NaN     NaN     NaN     3.4     3.3     NaN   \n",
       "23     NaN     NaN  ...     NaN     NaN     2.8     3.0     3.1     3.2   \n",
       "31     3.0     3.3  ...     4.3     4.6     4.6     5.2     4.4     4.9   \n",
       "36     4.8     5.2  ...     5.3     5.6     4.9     NaN     NaN     NaN   \n",
       "\n",
       "    Y_2000  Y_1999  Y_1995  Y_1990  \n",
       "4      NaN     NaN     NaN     4.3  \n",
       "5      4.7     4.8     NaN     5.5  \n",
       "10     3.3     4.1     5.1     5.5  \n",
       "11     3.9     3.8     4.6     4.6  \n",
       "14     NaN     NaN     NaN     NaN  \n",
       "18     NaN     NaN     NaN     NaN  \n",
       "23     3.2     3.2     3.4     3.5  \n",
       "31     5.1     4.6     6.6     4.9  \n",
       "36     NaN     NaN     6.6     7.7  \n",
       "\n",
       "[9 rows x 24 columns]"
      ]
     },
     "execution_count": 24,
     "metadata": {},
     "output_type": "execute_result"
    }
   ],
   "source": [
    "missing_drdata_rows = df_dr[df_dr.isnull().any(1)]\n",
    "missing_drdata_rows"
   ]
  },
  {
   "cell_type": "code",
   "execution_count": 25,
   "metadata": {},
   "outputs": [],
   "source": [
    "cadr = missing_drdata_rows.iloc[0][1:]\n",
    "codr = missing_drdata_rows.iloc[1][1:]\n",
    "gadr = missing_drdata_rows.iloc[2][1:]\n",
    "hidr = missing_drdata_rows.iloc[3][1:]\n",
    "indr = missing_drdata_rows.iloc[4][1:]\n",
    "ladr = missing_drdata_rows.iloc[5][1:]\n",
    "mndr = missing_drdata_rows.iloc[6][1:]\n",
    "nmdr = missing_drdata_rows.iloc[7][1:]\n",
    "okdr = missing_drdata_rows.iloc[8][1:]\n",
    "cadr_index, codr_index, gadr_index, hidr_index, indr_index, ladr_index, mndr_index, nmdr_index, okdr_index = 4, 5, 10, 11, 14, 18, 23, 31, 36"
   ]
  },
  {
   "cell_type": "code",
   "execution_count": 55,
   "metadata": {},
   "outputs": [
    {
     "data": {
      "text/plain": [
       "<AxesSubplot:>"
      ]
     },
     "execution_count": 55,
     "metadata": {},
     "output_type": "execute_result"
    },
    {
     "data": {
      "image/png": "[encoded data removed]",
      "text/plain": [
       "<Figure size 432x288 with 1 Axes>"
      ]
     },
     "metadata": {
      "needs_background": "light"
     },
     "output_type": "display_data"
    }
   ],
   "source": [
    "# plot the dr for California\n",
    "cadr.plot()"
   ]
  },
  {
   "cell_type": "code",
   "execution_count": 27,
   "metadata": {},
   "outputs": [
    {
     "data": {
      "text/plain": [
       "<AxesSubplot:>"
      ]
     },
     "execution_count": 27,
     "metadata": {},
     "output_type": "execute_result"
    },
    {
     "data": {
      "image/png": "[encoded data removed]",
      "text/plain": [
       "<Figure size 432x288 with 1 Axes>"
      ]
     },
     "metadata": {
      "needs_background": "light"
     },
     "output_type": "display_data"
    }
   ],
   "source": [
    "cadr_clean_df = cadr.astype(float).interpolate()\n",
    "cadr_clean_df.plot()"
   ]
  },
  {
   "cell_type": "code",
   "execution_count": 28,
   "metadata": {},
   "outputs": [
    {
     "data": {
      "text/plain": [
       "<AxesSubplot:>"
      ]
     },
     "execution_count": 28,
     "metadata": {},
     "output_type": "execute_result"
    },
    {
     "data": {
      "image/png": "[encoded data removed]",
      "text/plain": [
       "<Figure size 432x288 with 1 Axes>"
      ]
     },
     "metadata": {
      "needs_background": "light"
     },
     "output_type": "display_data"
    }
   ],
   "source": [
    "# plot the dr for Colorado\n",
    "codr.plot()"
   ]
  },
  {
   "cell_type": "code",
   "execution_count": 29,
   "metadata": {},
   "outputs": [
    {
     "data": {
      "text/plain": [
       "<AxesSubplot:>"
      ]
     },
     "execution_count": 29,
     "metadata": {},
     "output_type": "execute_result"
    },
    {
     "data": {
      "image/png": "[encoded data removed]",
      "text/plain": [
       "<Figure size 432x288 with 1 Axes>"
      ]
     },
     "metadata": {
      "needs_background": "light"
     },
     "output_type": "display_data"
    }
   ],
   "source": [
    "codr_clean_df = codr.astype(float).interpolate()\n",
    "codr_clean_df.plot()"
   ]
  },
  {
   "cell_type": "code",
   "execution_count": 30,
   "metadata": {},
   "outputs": [
    {
     "data": {
      "text/plain": [
       "<AxesSubplot:>"
      ]
     },
     "execution_count": 30,
     "metadata": {},
     "output_type": "execute_result"
    },
    {
     "data": {
      "image/png": "[encoded data removed]",
      "text/plain": [
       "<Figure size 432x288 with 1 Axes>"
      ]
     },
     "metadata": {
      "needs_background": "light"
     },
     "output_type": "display_data"
    }
   ],
   "source": [
    "# plot the dr for Georgia\n",
    "gadr.plot()"
   ]
  },
  {
   "cell_type": "code",
   "execution_count": 31,
   "metadata": {},
   "outputs": [
    {
     "data": {
      "text/plain": [
       "<AxesSubplot:>"
      ]
     },
     "execution_count": 31,
     "metadata": {},
     "output_type": "execute_result"
    },
    {
     "data": {
      "image/png": "[encoded data removed]",
      "text/plain": [
       "<Figure size 432x288 with 1 Axes>"
      ]
     },
     "metadata": {
      "needs_background": "light"
     },
     "output_type": "display_data"
    }
   ],
   "source": [
    "gadr_clean_df = gadr.astype(float).interpolate()\n",
    "gadr_clean_df.plot()"
   ]
  },
  {
   "cell_type": "code",
   "execution_count": 32,
   "metadata": {},
   "outputs": [
    {
     "data": {
      "text/plain": [
       "<AxesSubplot:>"
      ]
     },
     "execution_count": 32,
     "metadata": {},
     "output_type": "execute_result"
    },
    {
     "data": {
      "image/png": "[encoded data removed]",
      "text/plain": [
       "<Figure size 432x288 with 1 Axes>"
      ]
     },
     "metadata": {
      "needs_background": "light"
     },
     "output_type": "display_data"
    }
   ],
   "source": [
    "# plot the dr for Hawaii\n",
    "hidr.plot()"
   ]
  },
  {
   "cell_type": "code",
   "execution_count": 33,
   "metadata": {},
   "outputs": [
    {
     "data": {
      "text/plain": [
       "<AxesSubplot:>"
      ]
     },
     "execution_count": 33,
     "metadata": {},
     "output_type": "execute_result"
    },
    {
     "data": {
      "image/png": "[encoded data removed]",
      "text/plain": [
       "<Figure size 432x288 with 1 Axes>"
      ]
     },
     "metadata": {
      "needs_background": "light"
     },
     "output_type": "display_data"
    }
   ],
   "source": [
    "hidr_clean_df = hidr.astype(float).interpolate()\n",
    "hidr_clean_df.plot()"
   ]
  },
  {
   "cell_type": "code",
   "execution_count": 34,
   "metadata": {},
   "outputs": [
    {
     "data": {
      "text/plain": [
       "<AxesSubplot:>"
      ]
     },
     "execution_count": 34,
     "metadata": {},
     "output_type": "execute_result"
    },
    {
     "data": {
      "image/png": "[encoded data removed]",
      "text/plain": [
       "<Figure size 432x288 with 1 Axes>"
      ]
     },
     "metadata": {
      "needs_background": "light"
     },
     "output_type": "display_data"
    }
   ],
   "source": [
    "# plot the dr for Indiana\n",
    "indr.plot()"
   ]
  },
  {
   "cell_type": "code",
   "execution_count": 35,
   "metadata": {},
   "outputs": [
    {
     "data": {
      "text/plain": [
       "<AxesSubplot:>"
      ]
     },
     "execution_count": 35,
     "metadata": {},
     "output_type": "execute_result"
    },
    {
     "data": {
      "image/png": "[encoded data removed]",
      "text/plain": [
       "<Figure size 432x288 with 1 Axes>"
      ]
     },
     "metadata": {
      "needs_background": "light"
     },
     "output_type": "display_data"
    }
   ],
   "source": [
    "indr_clean_df = indr.astype(float).interpolate()\n",
    "indr_clean_df.plot()"
   ]
  },
  {
   "cell_type": "code",
   "execution_count": 36,
   "metadata": {},
   "outputs": [
    {
     "data": {
      "text/plain": [
       "<AxesSubplot:>"
      ]
     },
     "execution_count": 36,
     "metadata": {},
     "output_type": "execute_result"
    },
    {
     "data": {
      "image/png": "[encoded data removed]",
      "text/plain": [
       "<Figure size 432x288 with 1 Axes>"
      ]
     },
     "metadata": {
      "needs_background": "light"
     },
     "output_type": "display_data"
    }
   ],
   "source": [
    "# plot the dr for Louisiana\n",
    "ladr.plot()"
   ]
  },
  {
   "cell_type": "code",
   "execution_count": 37,
   "metadata": {},
   "outputs": [
    {
     "data": {
      "text/plain": [
       "<AxesSubplot:>"
      ]
     },
     "execution_count": 37,
     "metadata": {},
     "output_type": "execute_result"
    },
    {
     "data": {
      "image/png": "[encoded data removed]",
      "text/plain": [
       "<Figure size 432x288 with 1 Axes>"
      ]
     },
     "metadata": {
      "needs_background": "light"
     },
     "output_type": "display_data"
    }
   ],
   "source": [
    "ladr_clean_df = ladr.astype(float).interpolate()\n",
    "ladr_clean_df.plot()"
   ]
  },
  {
   "cell_type": "code",
   "execution_count": 38,
   "metadata": {},
   "outputs": [
    {
     "data": {
      "text/plain": [
       "<AxesSubplot:>"
      ]
     },
     "execution_count": 38,
     "metadata": {},
     "output_type": "execute_result"
    },
    {
     "data": {
      "image/png": "[encoded data removed]",
      "text/plain": [
       "<Figure size 432x288 with 1 Axes>"
      ]
     },
     "metadata": {
      "needs_background": "light"
     },
     "output_type": "display_data"
    }
   ],
   "source": [
    "# plot the dr for Minnesota\n",
    "mndr.plot()"
   ]
  },
  {
   "cell_type": "code",
   "execution_count": 39,
   "metadata": {},
   "outputs": [
    {
     "data": {
      "text/plain": [
       "<AxesSubplot:>"
      ]
     },
     "execution_count": 39,
     "metadata": {},
     "output_type": "execute_result"
    },
    {
     "data": {
      "image/png": "[encoded data removed]",
      "text/plain": [
       "<Figure size 432x288 with 1 Axes>"
      ]
     },
     "metadata": {
      "needs_background": "light"
     },
     "output_type": "display_data"
    }
   ],
   "source": [
    "mndr_clean_df = mndr.astype(float).interpolate()\n",
    "mndr_clean_df.plot()"
   ]
  },
  {
   "cell_type": "code",
   "execution_count": 40,
   "metadata": {},
   "outputs": [
    {
     "data": {
      "text/plain": [
       "<AxesSubplot:>"
      ]
     },
     "execution_count": 40,
     "metadata": {},
     "output_type": "execute_result"
    },
    {
     "data": {
      "image/png": "[encoded data removed]",
      "text/plain": [
       "<Figure size 432x288 with 1 Axes>"
      ]
     },
     "metadata": {
      "needs_background": "light"
     },
     "output_type": "display_data"
    }
   ],
   "source": [
    "# plot the dr for New Mexico\n",
    "nmdr.plot()"
   ]
  },
  {
   "cell_type": "code",
   "execution_count": 41,
   "metadata": {},
   "outputs": [
    {
     "data": {
      "text/plain": [
       "<AxesSubplot:>"
      ]
     },
     "execution_count": 41,
     "metadata": {},
     "output_type": "execute_result"
    },
    {
     "data": {
      "image/png": "[encoded data removed]",
      "text/plain": [
       "<Figure size 432x288 with 1 Axes>"
      ]
     },
     "metadata": {
      "needs_background": "light"
     },
     "output_type": "display_data"
    }
   ],
   "source": [
    "nmdr_clean_df = nmdr.astype(float).interpolate()\n",
    "nmdr_clean_df.plot()"
   ]
  },
  {
   "cell_type": "code",
   "execution_count": 42,
   "metadata": {},
   "outputs": [
    {
     "data": {
      "text/plain": [
       "<AxesSubplot:>"
      ]
     },
     "execution_count": 42,
     "metadata": {},
     "output_type": "execute_result"
    },
    {
     "data": {
      "image/png": "[encoded data removed]",
      "text/plain": [
       "<Figure size 432x288 with 1 Axes>"
      ]
     },
     "metadata": {
      "needs_background": "light"
     },
     "output_type": "display_data"
    }
   ],
   "source": [
    "# plot the dr for Oklahoma\n",
    "okdr.plot()"
   ]
  },
  {
   "cell_type": "code",
   "execution_count": 43,
   "metadata": {},
   "outputs": [
    {
     "data": {
      "text/plain": [
       "<AxesSubplot:>"
      ]
     },
     "execution_count": 43,
     "metadata": {},
     "output_type": "execute_result"
    },
    {
     "data": {
      "image/png": "[encoded data removed]",
      "text/plain": [
       "<Figure size 432x288 with 1 Axes>"
      ]
     },
     "metadata": {
      "needs_background": "light"
     },
     "output_type": "display_data"
    }
   ],
   "source": [
    "okdr_clean_df = okdr.astype(float).interpolate()\n",
    "okdr_clean_df.plot()"
   ]
  },
  {
   "cell_type": "code",
   "execution_count": 44,
   "metadata": {},
   "outputs": [],
   "source": [
    "# assign the clean data to the states that have missing dr data\n",
    "df_dr.iloc[cadr_index, 1:]= cadr_clean_df.values\n",
    "df_dr.iloc[codr_index, 1:]= codr_clean_df.values\n",
    "df_dr.iloc[gadr_index, 1:]= gadr_clean_df.values\n",
    "df_dr.iloc[hidr_index, 1:]= hidr_clean_df.values\n",
    "df_dr.iloc[indr_index, 1:]= indr_clean_df.values\n",
    "df_dr.iloc[ladr_index, 1:]= ladr_clean_df.values\n",
    "df_dr.iloc[mndr_index, 1:]= mndr_clean_df.values\n",
    "df_dr.iloc[nmdr_index, 1:]= nmdr_clean_df.values\n",
    "df_dr.iloc[okdr_index, 1:]= okdr_clean_df.values"
   ]
  },
  {
   "cell_type": "code",
   "execution_count": 45,
   "metadata": {},
   "outputs": [
    {
     "data": {
      "text/html": [
       "<div>\n",
       "<style scoped>\n",
       "    .dataframe tbody tr th:only-of-type {\n",
       "        vertical-align: middle;\n",
       "    }\n",
       "\n",
       "    .dataframe tbody tr th {\n",
       "        vertical-align: top;\n",
       "    }\n",
       "\n",
       "    .dataframe thead th {\n",
       "        text-align: right;\n",
       "    }\n",
       "</style>\n",
       "<table border=\"1\" class=\"dataframe\">\n",
       "  <thead>\n",
       "    <tr style=\"text-align: right;\">\n",
       "      <th></th>\n",
       "      <th>State</th>\n",
       "      <th>Y_2019</th>\n",
       "      <th>Y_2018</th>\n",
       "      <th>Y_2017</th>\n",
       "      <th>Y_2016</th>\n",
       "      <th>Y_2015</th>\n",
       "      <th>Y_2014</th>\n",
       "      <th>Y_2013</th>\n",
       "      <th>Y_2012</th>\n",
       "      <th>Y_2011</th>\n",
       "      <th>...</th>\n",
       "      <th>Y_2006</th>\n",
       "      <th>Y_2005</th>\n",
       "      <th>Y_2004</th>\n",
       "      <th>Y_2003</th>\n",
       "      <th>Y_2002</th>\n",
       "      <th>Y_2001</th>\n",
       "      <th>Y_2000</th>\n",
       "      <th>Y_1999</th>\n",
       "      <th>Y_1995</th>\n",
       "      <th>Y_1990</th>\n",
       "    </tr>\n",
       "  </thead>\n",
       "  <tbody>\n",
       "    <tr>\n",
       "      <th>4</th>\n",
       "      <td>California</td>\n",
       "      <td>NaN</td>\n",
       "      <td>NaN</td>\n",
       "      <td>NaN</td>\n",
       "      <td>NaN</td>\n",
       "      <td>NaN</td>\n",
       "      <td>NaN</td>\n",
       "      <td>NaN</td>\n",
       "      <td>NaN</td>\n",
       "      <td>NaN</td>\n",
       "      <td>...</td>\n",
       "      <td>NaN</td>\n",
       "      <td>NaN</td>\n",
       "      <td>NaN</td>\n",
       "      <td>NaN</td>\n",
       "      <td>NaN</td>\n",
       "      <td>NaN</td>\n",
       "      <td>NaN</td>\n",
       "      <td>NaN</td>\n",
       "      <td>NaN</td>\n",
       "      <td>4.3</td>\n",
       "    </tr>\n",
       "    <tr>\n",
       "      <th>11</th>\n",
       "      <td>Hawaii</td>\n",
       "      <td>NaN</td>\n",
       "      <td>NaN</td>\n",
       "      <td>NaN</td>\n",
       "      <td>NaN</td>\n",
       "      <td>NaN</td>\n",
       "      <td>NaN</td>\n",
       "      <td>NaN</td>\n",
       "      <td>NaN</td>\n",
       "      <td>NaN</td>\n",
       "      <td>...</td>\n",
       "      <td>NaN</td>\n",
       "      <td>NaN</td>\n",
       "      <td>NaN</td>\n",
       "      <td>NaN</td>\n",
       "      <td>3.7</td>\n",
       "      <td>4.0</td>\n",
       "      <td>3.9</td>\n",
       "      <td>3.8</td>\n",
       "      <td>4.6</td>\n",
       "      <td>4.6</td>\n",
       "    </tr>\n",
       "    <tr>\n",
       "      <th>14</th>\n",
       "      <td>Indiana</td>\n",
       "      <td>NaN</td>\n",
       "      <td>NaN</td>\n",
       "      <td>NaN</td>\n",
       "      <td>NaN</td>\n",
       "      <td>NaN</td>\n",
       "      <td>NaN</td>\n",
       "      <td>NaN</td>\n",
       "      <td>NaN</td>\n",
       "      <td>NaN</td>\n",
       "      <td>...</td>\n",
       "      <td>NaN</td>\n",
       "      <td>NaN</td>\n",
       "      <td>NaN</td>\n",
       "      <td>NaN</td>\n",
       "      <td>NaN</td>\n",
       "      <td>NaN</td>\n",
       "      <td>NaN</td>\n",
       "      <td>NaN</td>\n",
       "      <td>NaN</td>\n",
       "      <td>NaN</td>\n",
       "    </tr>\n",
       "    <tr>\n",
       "      <th>23</th>\n",
       "      <td>Minnesota</td>\n",
       "      <td>NaN</td>\n",
       "      <td>NaN</td>\n",
       "      <td>NaN</td>\n",
       "      <td>NaN</td>\n",
       "      <td>NaN</td>\n",
       "      <td>NaN</td>\n",
       "      <td>NaN</td>\n",
       "      <td>NaN</td>\n",
       "      <td>NaN</td>\n",
       "      <td>...</td>\n",
       "      <td>NaN</td>\n",
       "      <td>NaN</td>\n",
       "      <td>2.8</td>\n",
       "      <td>3.0</td>\n",
       "      <td>3.1</td>\n",
       "      <td>3.2</td>\n",
       "      <td>3.2</td>\n",
       "      <td>3.2</td>\n",
       "      <td>3.4</td>\n",
       "      <td>3.5</td>\n",
       "    </tr>\n",
       "    <tr>\n",
       "      <th>31</th>\n",
       "      <td>New Mexico</td>\n",
       "      <td>NaN</td>\n",
       "      <td>NaN</td>\n",
       "      <td>NaN</td>\n",
       "      <td>NaN</td>\n",
       "      <td>3.3</td>\n",
       "      <td>3.6</td>\n",
       "      <td>3.4</td>\n",
       "      <td>3.0</td>\n",
       "      <td>3.3</td>\n",
       "      <td>...</td>\n",
       "      <td>4.3</td>\n",
       "      <td>4.6</td>\n",
       "      <td>4.6</td>\n",
       "      <td>5.2</td>\n",
       "      <td>4.4</td>\n",
       "      <td>4.9</td>\n",
       "      <td>5.1</td>\n",
       "      <td>4.6</td>\n",
       "      <td>6.6</td>\n",
       "      <td>4.9</td>\n",
       "    </tr>\n",
       "  </tbody>\n",
       "</table>\n",
       "<p>5 rows × 24 columns</p>\n",
       "</div>"
      ],
      "text/plain": [
       "         State  Y_2019  Y_2018  Y_2017  Y_2016  Y_2015  Y_2014  Y_2013  \\\n",
       "4   California     NaN     NaN     NaN     NaN     NaN     NaN     NaN   \n",
       "11      Hawaii     NaN     NaN     NaN     NaN     NaN     NaN     NaN   \n",
       "14     Indiana     NaN     NaN     NaN     NaN     NaN     NaN     NaN   \n",
       "23   Minnesota     NaN     NaN     NaN     NaN     NaN     NaN     NaN   \n",
       "31  New Mexico     NaN     NaN     NaN     NaN     3.3     3.6     3.4   \n",
       "\n",
       "    Y_2012  Y_2011  ...  Y_2006  Y_2005  Y_2004  Y_2003  Y_2002  Y_2001  \\\n",
       "4      NaN     NaN  ...     NaN     NaN     NaN     NaN     NaN     NaN   \n",
       "11     NaN     NaN  ...     NaN     NaN     NaN     NaN     3.7     4.0   \n",
       "14     NaN     NaN  ...     NaN     NaN     NaN     NaN     NaN     NaN   \n",
       "23     NaN     NaN  ...     NaN     NaN     2.8     3.0     3.1     3.2   \n",
       "31     3.0     3.3  ...     4.3     4.6     4.6     5.2     4.4     4.9   \n",
       "\n",
       "    Y_2000  Y_1999  Y_1995  Y_1990  \n",
       "4      NaN     NaN     NaN     4.3  \n",
       "11     3.9     3.8     4.6     4.6  \n",
       "14     NaN     NaN     NaN     NaN  \n",
       "23     3.2     3.2     3.4     3.5  \n",
       "31     5.1     4.6     6.6     4.9  \n",
       "\n",
       "[5 rows x 24 columns]"
      ]
     },
     "execution_count": 45,
     "metadata": {},
     "output_type": "execute_result"
    }
   ],
   "source": [
    "# check if the missing dr datapoints still exist \n",
    "check_missingdr_data_rows = df_dr[df_dr.isnull().any(1)]\n",
    "check_missingdr_data_rows"
   ]
  },
  {
   "cell_type": "code",
   "execution_count": 46,
   "metadata": {},
   "outputs": [],
   "source": [
    "engine = create_engine('sqlite:///../db/marriage_and_divorce_rates.sqlite', echo=False)"
   ]
  },
  {
   "cell_type": "code",
   "execution_count": 47,
   "metadata": {},
   "outputs": [],
   "source": [
    "# save the marriage data into sqlite\n",
    "df_mr.to_sql('marriage_rates', con=engine, if_exists='replace')"
   ]
  },
  {
   "cell_type": "code",
   "execution_count": 48,
   "metadata": {},
   "outputs": [],
   "source": [
    "# save the divorce data into sqlite\n",
    "df_dr.to_sql('divorce_rates', con=engine, if_exists='replace')"
   ]
  },
  {
   "cell_type": "code",
   "execution_count": 49,
   "metadata": {},
   "outputs": [
    {
     "data": {
      "text/plain": [
       "[(0, 'Alabama', 6.7, 6.8, 7.0, 7.1, 7.4, 7.8, 7.8, 8.2, 8.4, 8.2, 8.3, 8.6, 8.9, 9.2, 9.2, 9.4, 9.6, 9.9, 9.4, 10.1, 10.8, 9.8, 10.6),\n",
       " (1, 'Alaska', 6.5, 6.7, 6.9, 7.1, 7.4, 7.5, 7.3, 7.2, 7.8, 8.0, 7.8, 8.4, 8.5, 8.2, 8.2, 8.5, 8.1, 8.3, 8.1, 8.9, 8.6, 9.0, 10.2),\n",
       " (2, 'Arizona', 5.3, 5.5, 5.8, 5.9, 5.9, 5.8, 5.4, 5.6, 5.7, 5.9, 5.6, 6.0, 6.4, 6.5, 6.6, 6.7, 6.5, 6.7, 7.6, 7.5, 8.2, 8.8, 10.0),\n",
       " (3, 'Arkansas', 8.4, 8.9, 9.5, 9.9, 10.0, 10.1, 9.8, 10.9, 10.4, 10.8, 10.7, 10.6, 12.0, 12.4, 12.9, 13.4, 13.4, 14.3, 14.3, 15.4, 14.8, 14.4, 15.3),\n",
       " (4, 'California', 5.7, 6.0, 6.3, 6.5, 6.2, 6.4, 6.5, 6.0, 5.8, 5.8, 5.8, 6.7, 6.2, 6.3, 6.4, 6.4, 6.1, 6.2, 6.5, 5.8, 6.4, 6.3, 7.9),\n",
       " (5, 'Colorado', 7.3, 7.6, 7.3, 7.4, 6.8, 7.1, 6.5, 6.8, 7.0, 6.9, 6.9, 7.4, 7.1, 7.2, 7.6, 7.4, 7.8, 8.0, 8.2, 8.3, 8.2, 9.0, 9.8),\n",
       " (6, 'Connecticut', 5.0, 5.3, 5.6, 5.6, 5.3, 5.4, 5.0, 5.2, 5.5, 5.6, 5.9, 5.4, 5.5, 5.5, 5.8, 5.8, 5.5, 5.7, 5.4, 5.7, 5.8, 6.6, 7.9),\n",
       " (7, 'Delaware', 5.0, 5.2, 5.5, 5.6, 5.7, 6.0, 6.6, 5.8, 5.2, 5.2, 5.4, 5.5, 5.7, 5.9, 5.9, 6.1, 6.0, 6.4, 6.5, 6.5, 6.7, 7.3, 8.4),\n",
       " (8, 'District of Columbia', 7.8, 7.8, 8.2, 8.1, 8.2, 11.8, 10.8, 8.4, 8.7, 7.6, 4.7, 4.1, 4.2, 4.0, 4.1, 5.2, 5.1, 5.1, 6.2, 4.9, 6.6, 6.1, 8.2),\n",
       " (9, 'Florida', 7.1, 7.3, 7.8, 8.1, 8.2, 7.3, 7.0, 7.2, 7.4, 7.3, 7.5, 8.0, 8.5, 8.6, 8.9, 9.0, 9.0, 9.4, 9.3, 8.9, 8.7, 9.9, 10.9),\n",
       " (10, 'Georgia', 6.0, 6.4, 6.9, 6.8, 6.2, 6.3, 6.4, 6.5, 6.6, 7.3, 6.6, 6.0, 6.8, 7.3, 7.0, 7.9, 7.0, 6.5, 6.1, 6.8, 7.8, 8.4, 10.3),\n",
       " (11, 'Hawaii', 14.2, 15.3, 15.3, 15.6, 15.9, 17.7, 16.3, 17.5, 17.6, 17.6, 17.2, 19.1, 20.8, 21.9, 22.6, 22.6, 22.0, 20.8, 19.6, 20.6, 18.9, 15.7, 16.4),\n",
       " (12, 'Idaho', 7.4, 7.8, 7.8, 8.1, 8.2, 8.4, 8.2, 8.2, 8.6, 8.8, 8.9, 9.5, 10.0, 10.1, 10.5, 10.8, 10.9, 11.0, 11.2, 10.8, 12.1, 13.1, 13.9),\n",
       " (13, 'Illinois', 5.2, 5.5, 6.0, 5.8, 5.9, 6.2, 5.4, 5.8, 5.6, 5.7, 5.7, 5.9, 6.1, 6.2, 5.9, 6.2, 6.5, 6.6, 7.2, 6.9, 7.0, 6.9, 8.8),\n",
       " (14, 'Indiana', 6.2, 6.6, 6.9, 6.9, 6.9, 7.1, 6.6, 6.7, 6.8, 6.3, 7.9, 8.0, 7.0, 7.0, 6.9, 7.8, 7.1, 7.9, 7.9, 7.9, 8.1, 8.6, 9.6),\n",
       " (15, 'Iowa', 5.4, 5.7, 6.2, 6.1, 6.3, 6.9, 7.4, 6.8, 6.7, 6.9, 7.0, 6.5, 6.6, 6.7, 6.9, 6.9, 6.9, 7.0, 7.1, 6.9, 7.9, 7.7, 9.0),\n",
       " (16, 'Kansas', 5.3, 5.4, 6.0, 6.2, 5.9, 6.1, 6.0, 6.3, 6.3, 6.4, 6.4, 6.7, 6.8, 6.8, 6.8, 7.0, 6.9, 7.3, 7.5, 8.3, 7.1, 8.5, 9.2),\n",
       " (17, 'Kentucky', 6.3, 6.8, 7.2, 7.4, 7.2, 6.9, 7.3, 7.2, 7.5, 7.4, 7.6, 7.9, 7.8, 8.4, 8.7, 8.8, 9.1, 9.0, 9.0, 9.8, 10.9, 12.2, 13.5),\n",
       " (18, 'Louisiana', 5.1, 5.1, 5.6, 6.1, 6.8, 6.9, 6.4, 5.7, 6.4, 6.9, 7.1, 6.8, 7.5, 7.75, 8.0, 8.0, 8.2, 8.1, 8.4, 9.1, 9.1, 9.3, 9.6),\n",
       " (19, 'Maine', 7.1, 7.4, 7.6, 7.6, 7.6, 7.7, 8.3, 7.3, 7.2, 7.1, 7.1, 7.4, 7.4, 7.8, 8.2, 8.6, 8.4, 8.4, 8.6, 8.8, 8.6, 8.7, 9.7),\n",
       " (20, 'Maryland', 5.6, 5.9, 6.3, 6.3, 6.2, 6.5, 6.8, 5.6, 5.8, 5.7, 5.8, 5.9, 6.5, 6.6, 6.9, 6.9, 6.9, 7.1, 7.0, 7.5, 7.5, 8.4, 9.7),\n",
       " (21, 'Massachusetts', 5.0, 6.3, 5.7, 5.8, 5.5, 5.6, 5.5, 5.5, 5.5, 5.6, 5.6, 5.7, 5.9, 5.9, 6.2, 6.5, 5.6, 5.9, 6.2, 5.8, 6.2, 7.1, 7.9),\n",
       " (22, 'Michigan', 5.2, 5.7, 5.9, 5.9, 6.0, 5.8, 5.8, 5.6, 5.7, 5.5, 5.4, 5.6, 5.7, 5.9, 6.1, 6.2, 6.3, 6.5, 6.7, 6.7, 6.8, 7.3, 8.2),\n",
       " (23, 'Minnesota', 5.1, 5.3, 5.6, 5.6, 5.6, 5.9, 6.0, 5.6, 5.6, 5.3, 5.3, 5.4, 5.8, 6.0, 6.0, 6.0, 6.3, 6.5, 6.6, 6.8, 6.8, 7.0, 7.7),\n",
       " (24, 'Mississippi', 6.0, 6.3, 6.7, 7.0, 7.0, 6.9, 6.7, 5.8, 4.9, 4.9, 4.8, 5.1, 5.4, 5.7, 5.8, 6.1, 6.2, 6.4, 6.5, 6.9, 7.8, 7.9, 9.4),\n",
       " (25, 'Missouri', 6.0, 6.5, 6.6, 6.9, 6.8, 6.7, 6.4, 6.5, 6.6, 6.5, 6.5, 6.8, 6.9, 6.9, 7.0, 7.1, 7.2, 7.3, 7.5, 7.8, 8.1, 8.3, 9.6),\n",
       " (26, 'Montana', 7.9, 7.7, 8.0, 7.8, 8.0, 7.9, 7.4, 7.8, 7.8, 7.4, 7.3, 7.6, 7.5, 7.4, 7.4, 7.5, 7.2, 7.1, 7.1, 7.3, 7.4, 7.6, 8.6),\n",
       " (27, 'Nebraska', 5.5, 6.0, 6.3, 6.5, 6.4, 6.4, 6.3, 6.7, 6.6, 6.6, 6.6, 6.9, 6.8, 6.8, 7.0, 7.1, 7.0, 7.5, 7.9, 7.6, 7.5, 7.3, 8.0),\n",
       " (28, 'Nevada', 25.9, 26.7, 28.6, 28.4, 31.0, 31.9, 32.3, 35.1, 36.9, 38.3, 40.3, 42.3, 48.6, 52.1, 57.4, 62.1, 63.9, 67.4, 69.6, 72.2, 82.3, 85.2, 99.0),\n",
       " (29, 'New Hampshire', 6.6, 6.9, 7.0, 7.0, 6.9, 7.2, 6.9, 6.8, 7.1, 7.3, 6.5, 6.8, 7.1, 7.2, 7.3, 8.0, 8.1, 8.3, 8.5, 9.4, 7.9, 8.3, 9.5),\n",
       " (30, 'New Jersey', 5.2, 5.4, 5.5, 5.7, 5.6, 5.4, 5.1, 4.9, 4.8, 5.1, 5.0, 5.4, 5.4, 5.5, 5.7, 5.9, 5.8, 6.0, 6.4, 6.0, 5.9, 6.5, 7.6),\n",
       " (31, 'New Mexico', 6.0, 6.4, 5.9, 6.4, 6.2, 8.1, 7.3, 6.9, 8.0, 7.7, 5.0, 4.0, 5.6, 6.8, 6.6, 7.4, 6.9, 7.9, 7.6, 8.0, 8.0, 8.8, 8.8),\n",
       " (32, 'New York', 7.2, 7.1, 7.3, 7.5, 7.1, 6.7, 6.9, 7.0, 6.9, 6.5, 6.5, 6.6, 6.8, 6.9, 6.8, 6.8, 6.8, 7.3, 7.6, 7.1, 7.3, 8.0, 8.6),\n",
       " (33, 'North Carolina', 6.2, 6.4, 6.8, 7.0, 7.0, 6.9, 6.5, 6.6, 6.7, 6.6, 6.6, 6.9, 7.0, 7.3, 7.3, 7.3, 7.4, 7.7, 7.4, 8.2, 8.5, 8.4, 7.8),\n",
       " (34, 'North Dakota', 5.4, 5.7, 5.8, 6.0, 6.2, 6.3, 6.3, 6.6, 6.7, 6.5, 6.4, 6.5, 6.6, 6.7, 6.8, 6.9, 7.1, 6.8, 6.5, 7.2, 6.6, 7.1, 7.5),\n",
       " (35, 'Ohio', 5.3, 5.6, 5.8, 6.0, 5.9, 5.8, 5.7, 5.8, 5.9, 5.8, 5.8, 6.0, 6.1, 6.3, 6.5, 6.6, 6.7, 7.0, 7.2, 7.8, 7.8, 8.0, 9.0),\n",
       " (36, 'Oklahoma', 6.3, 6.4, 6.8, 6.7, 7.4, 7.1, 7.1, 6.9, 6.9, 7.2, 6.9, 7.1, 7.3, 7.3, 7.3, 6.5, 6.56, 6.62, 6.68, 6.74, 6.8, 8.6, 10.6),\n",
       " (37, 'Oregon', 6.0, 6.3, 6.7, 6.9, 6.9, 6.8, 6.3, 6.6, 6.6, 6.5, 6.6, 6.9, 7.2, 7.3, 7.3, 8.1, 7.2, 7.1, 7.5, 7.6, 7.6, 8.1, 8.9),\n",
       " (38, 'Pennsylvania', 5.4, 5.5, 5.7, 5.8, 5.7, 5.8, 5.4, 5.5, 5.3, 5.3, 5.3, 5.5, 5.7, 5.7, 5.8, 5.9, 5.9, 5.7, 5.8, 6.0, 6.1, 6.2, 7.1),\n",
       " (39, 'Rhode Island', 6.1, 6.3, 6.8, 6.7, 6.4, 6.7, 6.2, 6.1, 6.0, 5.8, 5.9, 6.1, 6.4, 6.6, 7.0, 7.7, 7.8, 7.8, 8.1, 7.6, 7.5, 7.3, 8.1),\n",
       " (40, 'South Carolina', 6.3, 6.6, 7.0, 6.6, 7.5, 7.6, 7.1, 7.4, 7.2, 7.4, 7.3, 7.3, 7.9, 7.8, 8.3, 8.2, 9.0, 9.3, 9.9, 10.6, 10.2, 11.9, 15.9),\n",
       " (41, 'South Dakota', 6.1, 6.5, 6.7, 7.2, 7.2, 7.1, 7.0, 7.5, 7.5, 7.3, 7.3, 7.7, 7.8, 8.0, 8.4, 8.4, 8.4, 8.8, 8.9, 9.4, 9.1, 9.9, 11.1),\n",
       " (42, 'Tennessee', 7.5, 8.0, 8.2, 8.6, 8.5, 8.4, 8.4, 8.8, 9.0, 8.8, 8.4, 9.4, 10.1, 10.6, 10.9, 11.4, 11.9, 13.1, 13.5, 15.5, 14.7, 15.5, 13.9),\n",
       " (43, 'Texas', 4.9, 6.1, 7.1, 7.1, 7.2, 6.9, 7.0, 7.3, 7.1, 7.1, 7.1, 7.3, 7.4, 7.6, 7.8, 8.0, 8.1, 8.4, 9.1, 9.4, 9.1, 9.9, 10.5),\n",
       " (44, 'Utah', 8.1, 8.4, 8.7, 9.0, 8.1, 7.3, 7.5, 8.4, 8.6, 8.5, 8.4, 9.0, 9.6, 9.2, 9.8, 9.9, 10.2, 10.4, 10.2, 10.8, 9.6, 10.7, 11.2),\n",
       " (45, 'Vermont', 7.7, 7.9, 7.9, 8.3, 8.1, 8.7, 9.2, 8.2, 8.3, 9.3, 8.7, 7.9, 8.5, 8.6, 8.9, 9.4, 9.7, 9.8, 9.8, 10.0, 10.0, 10.3, 10.9),\n",
       " (46, 'Virginia', 6.1, 6.4, 6.8, 7.0, 7.0, 6.7, 6.7, 6.8, 6.8, 6.8, 6.9, 7.2, 7.5, 7.8, 8.2, 8.3, 8.4, 8.6, 8.8, 8.8, 9.2, 10.2, 11.4),\n",
       " (47, 'Washington', 5.7, 6.0, 6.2, 6.2, 6.2, 7.0, 7.1, 6.3, 6.1, 6.0, 6.0, 6.3, 6.4, 6.5, 6.5, 6.5, 6.5, 6.5, 7.0, 6.9, 7.2, 7.7, 9.5),\n",
       " (48, 'West Virginia', 6.0, 6.1, 6.3, 6.4, 6.6, 6.7, 6.6, 7.0, 7.2, 6.7, 6.7, 7.1, 7.3, 7.3, 7.4, 7.5, 7.5, 8.1, 7.9, 8.7, 7.5, 6.1, 7.2),\n",
       " (49, 'Wisconsin', 5.0, 5.4, 5.6, 5.6, 5.6, 5.7, 5.2, 5.4, 5.3, 5.3, 5.3, 5.6, 5.7, 6.0, 6.1, 6.2, 6.2, 6.3, 6.5, 6.7, 6.7, 7.0, 7.9),\n",
       " (50, 'Wyoming', 7.0, 7.1, 7.1, 7.1, 7.3, 7.7, 7.5, 7.6, 7.8, 7.6, 8.0, 8.6, 9.0, 9.3, 9.3, 9.3, 9.3, 9.5, 10.0, 10.0, 9.9, 10.6, 10.7)]"
      ]
     },
     "execution_count": 49,
     "metadata": {},
     "output_type": "execute_result"
    }
   ],
   "source": [
    "engine.execute(\"SELECT * FROM marriage_rates\").fetchall()"
   ]
  },
  {
   "cell_type": "code",
   "execution_count": 50,
   "metadata": {},
   "outputs": [
    {
     "data": {
      "text/plain": [
       "[(0, 'Alabama', 3.6, 3.7, 3.7, 3.8, 3.9, 3.8, 3.7, 3.6, 4.3, 4.4, 4.4, 4.3, 4.5, 4.9, 4.9, 4.9, 5.2, 5.4, 5.4, 5.5, 5.7, 6.0, 6.1),\n",
       " (1, 'Alaska', 3.6, 3.7, 3.6, 3.9, 4.1, 4.0, 4.5, 4.5, 4.8, 4.7, 4.4, 4.4, 4.3, 4.2, 4.3, 4.3, 3.9, 4.6, 4.3, 3.9, 5.0, 5.0, 5.5),\n",
       " (2, 'Arizona', 2.9, 3.0, 3.5, 3.4, 3.6, 3.9, 3.9, 4.3, 3.9, 3.5, 3.6, 3.8, 4.0, 4.0, 4.2, 4.3, 4.4, 4.8, 4.0, 4.6, 4.6, 6.2, 6.9),\n",
       " (3, 'Arkansas', 4.0, 4.1, 3.7, 3.9, 4.8, 4.8, 5.0, 5.3, 5.3, 5.7, 5.7, 5.5, 5.9, 5.8, 6.0, 6.1, 6.0, 6.2, 6.2, 6.4, 6.2, 6.3, 6.9),\n",
       " (4, 'California', None, None, None, None, None, None, None, None, None, None, None, None, None, None, None, None, None, None, None, None, None, None, 4.3),\n",
       " (5, 'Colorado', 3.3, 3.3, 3.2, 3.6, 3.7, 3.9, 4.1, 4.3, 4.4, 4.3, 4.3, 4.3, 4.4, 4.5, 4.4, 4.4, 4.3, 4.7, 4.7, 4.7, 4.8, 5.15, 5.5),\n",
       " (6, 'Connecticut', 2.7, 2.9, 2.9, 3.2, 3.1, 2.6, 2.8, 2.7, 3.1, 2.9, 3.0, 3.4, 3.2, 3.1, 3.0, 3.1, 3.2, 3.3, 3.2, 3.3, 3.0, 2.9, 3.2),\n",
       " (7, 'Delaware', 2.9, 2.8, 3.0, 3.1, 3.1, 3.3, 3.4, 3.5, 3.6, 3.5, 3.6, 3.5, 3.7, 3.8, 3.8, 3.7, 3.9, 3.5, 3.9, 3.9, 4.5, 5.0, 4.4),\n",
       " (8, 'District of Columbia', 2.4, 2.5, 2.5, 2.7, 2.8, 2.6, 2.8, 2.9, 2.9, 2.8, 2.7, 2.7, 1.7, 2.1, 2.0, 1.8, 2.0, 2.4, 2.9, 3.2, 3.6, 3.2, 4.5),\n",
       " (9, 'Florida', 3.5, 3.6, 3.6, 3.9, 4.0, 4.0, 4.1, 4.2, 4.5, 4.4, 4.2, 4.3, 4.6, 4.7, 4.6, 4.7, 5.0, 5.1, 5.2, 5.1, 5.1, 5.5, 6.3),\n",
       " (10, 'Georgia', 2.3, 2.5, 3.5, 3.4785714285714286, 3.4571428571428573, 3.435714285714286, 3.414285714285714, 3.392857142857143, 3.3714285714285714, 3.35, 3.3285714285714287, 3.3071428571428574, 3.285714285714286, 3.2642857142857142, 3.242857142857143, 3.2214285714285715, 3.2, 2.5, 3.1, 3.3, 4.1, 5.1, 5.5),\n",
       " (11, 'Hawaii', None, None, None, None, None, None, None, None, None, None, None, None, None, None, None, None, None, 3.7, 4.0, 3.9, 3.8, 4.6, 4.6),\n",
       " (12, 'Idaho', 3.9, 3.8, 3.9, 4.0, 4.1, 4.2, 4.5, 4.7, 4.9, 5.2, 5.0, 4.8, 4.9, 5.0, 5.0, 5.0, 5.2, 5.3, 5.3, 5.5, 5.4, 5.8, 6.5),\n",
       " (13, 'Illinois', 1.3, 1.5, 1.9, 2.2, 2.2, 2.2, 2.3, 2.4, 2.6, 2.6, 2.5, 2.5, 2.6, 2.5, 2.6, 2.6, 2.8, 2.9, 3.2, 3.2, 3.3, 3.2, 3.8),\n",
       " (14, 'Indiana', None, None, None, None, None, None, None, None, None, None, None, None, None, None, None, None, None, None, None, None, None, None, None),\n",
       " (15, 'Iowa', 2.3, 2.2, 2.0, 1.3, 1.2, 1.5, 1.9, 2.2, 2.4, 2.4, 2.4, 2.6, 2.5, 2.7, 2.7, 2.8, 2.8, 3.1, 3.3, 3.3, 3.3, 3.7, 3.9),\n",
       " (16, 'Kansas', 2.3, 2.3, 2.4, 2.7, 2.8, 3.0, 3.0, 3.4, 3.9, 3.7, 3.6, 3.5, 3.4, 3.1, 3.1, 3.3, 3.3, 3.6, 3.4, 3.6, 3.4, 4.1, 5.0),\n",
       " (17, 'Kentucky', 3.4, 3.5, 3.7, 3.8, 3.7, 3.8, 4.2, 4.1, 4.4, 4.5, 4.6, 4.6, 4.6, 5.0, 4.6, 4.9, 5.0, 5.2, 5.1, 5.1, 5.5, 5.9, 5.8),\n",
       " (18, 'Louisiana', 2.4, 1.7, 1.9, 2.0, 2.8, 2.3, 2.2, 2.3200000000000003, 2.44, 2.56, 2.68, 2.8, 2.92, 3.04, 3.16, 3.28, 3.4, 3.3, 3.3, 3.3, 3.3, 3.3, 3.3),\n",
       " (19, 'Maine', 3.0, 3.2, 3.2, 3.4, 3.4, 3.6, 4.0, 3.9, 4.2, 4.2, 4.1, 4.2, 4.2, 4.2, 4.1, 4.3, 4.4, 4.6, 4.7, 5.0, 5.1, 4.4, 4.3),\n",
       " (20, 'Maryland', 2.7, 2.4, 2.5, 2.7, 2.6, 2.5, 2.5, 2.8, 2.9, 2.8, 2.8, 2.8, 2.9, 3.0, 3.1, 3.2, 3.2, 3.4, 3.0, 3.3, 3.2, 3.0, 3.4),\n",
       " (21, 'Massachusetts', 1.5, 2.1, 2.2, 2.3, 2.6, 2.7, 2.6, 2.7, 2.7, 2.5, 2.2, 2.0, 2.3, 2.3, 2.2, 2.2, 2.5, 2.5, 2.4, 2.5, 2.5, 2.2, 2.8),\n",
       " (22, 'Michigan', 2.3, 2.8, 2.8, 2.9, 3.0, 3.0, 3.3, 3.3, 3.4, 3.5, 3.3, 3.4, 3.4, 3.5, 3.4, 3.5, 3.5, 3.8, 3.9, 3.9, 3.8, 4.1, 4.3),\n",
       " (23, 'Minnesota', None, None, None, None, None, None, None, None, None, None, None, None, None, None, None, 2.8, 3.0, 3.1, 3.2, 3.2, 3.2, 3.4, 3.5),\n",
       " (24, 'Mississippi', 2.6, 2.7, 2.9, 3.2, 3.4, 3.4, 3.6, 4.0, 4.0, 4.3, 4.1, 4.3, 4.5, 4.8, 4.4, 4.5, 4.6, 4.9, 5.0, 5.0, 5.0, 4.8, 5.5),\n",
       " (25, 'Missouri', 2.9, 3.0, 3.1, 3.3, 3.2, 3.3, 3.4, 3.7, 3.9, 3.9, 3.8, 3.7, 3.8, 3.8, 3.6, 3.8, 3.9, 4.0, 4.2, 4.5, 4.4, 5.0, 5.1),\n",
       " (26, 'Montana', 3.0, 3.0, 3.1, 3.1, 3.4, 3.4, 3.4, 3.9, 4.0, 3.9, 4.0, 4.1, 4.0, 4.4, 4.5, 3.8, 3.9, 4.0, 4.2, 4.2, 2.8, 4.8, 5.1),\n",
       " (27, 'Nebraska', 2.7, 2.9, 3.0, 3.1, 3.2, 3.1, 3.3, 3.4, 3.5, 3.6, 3.4, 3.3, 3.4, 3.4, 3.3, 3.4, 3.4, 3.6, 3.6, 3.7, 3.7, 3.8, 4.0),\n",
       " (28, 'Nevada', 4.2, 4.4, 4.5, 4.3, 4.6, 5.3, 5.1, 5.5, 5.6, 5.9, 6.6, 6.4, 6.4, 6.7, 7.4, 6.3, 7.3, 7.1, 6.3, 9.9, 7.8, 7.8, 11.4),\n",
       " (29, 'New Hampshire', 3.1, 3.1, 3.1, 3.4, 3.3, 3.5, 3.7, 3.6, 3.8, 3.8, 3.7, 3.9, 3.8, 4.1, 3.9, 4.0, 4.1, 4.3, 4.4, 4.8, 5.1, 4.2, 4.7),\n",
       " (30, 'New Jersey', 2.5, 2.7, 2.6, 2.7, 2.8, 2.8, 2.8, 2.8, 2.9, 3.0, 2.7, 3.0, 3.0, 3.0, 2.9, 3.0, 3.2, 3.4, 3.4, 3.0, 3.0, 3.0, 3.0),\n",
       " (31, 'New Mexico', None, None, None, None, 3.3, 3.6, 3.4, 3.0, 3.3, 4.0, 3.9, 4.1, 4.2, 4.3, 4.6, 4.6, 5.2, 4.4, 4.9, 5.1, 4.6, 6.6, 4.9),\n",
       " (32, 'New York', 2.9, 2.8, 2.7, 2.7, 2.7, 2.8, 2.7, 2.9, 2.9, 2.9, 2.6, 2.8, 2.9, 3.1, 2.9, 3.0, 3.2, 3.4, 3.5, 3.0, 3.3, 3.0, 3.2),\n",
       " (33, 'North Carolina', 3.1, 3.1, 3.1, 3.2, 3.1, 3.4, 3.4, 3.7, 3.7, 3.8, 3.8, 3.8, 4.0, 4.0, 4.1, 4.2, 4.2, 4.4, 4.6, 4.5, 4.6, 5.0, 5.1),\n",
       " (34, 'North Dakota', 2.5, 2.6, 2.5, 2.6, 2.8, 2.8, 2.9, 3.1, 2.7, 3.1, 2.8, 2.9, 2.9, 3.0, 2.9, 3.1, 2.9, 2.9, 2.9, 3.4, 4.4, 3.4, 3.6),\n",
       " (35, 'Ohio', 2.8, 2.9, 2.9, 3.0, 3.1, 3.2, 3.3, 3.4, 3.4, 3.4, 3.3, 3.3, 3.4, 3.5, 3.5, 3.6, 3.7, 4.0, 4.0, 4.2, 3.9, 4.3, 4.7),\n",
       " (36, 'Oklahoma', 3.9, 3.8, 4.1, 4.4, 4.4, 4.5, 4.5, 4.8, 5.2, 5.2, 4.8, 5.3, 5.2, 5.3, 5.6, 4.9, 5.183333333333334, 5.466666666666667, 5.75, 6.033333333333333, 6.316666666666666, 6.6, 7.7),\n",
       " (37, 'Oregon', 3.2, 3.4, 3.4, 3.4, 3.4, 3.4, 3.6, 3.8, 3.8, 4.0, 3.9, 3.9, 3.9, 4.0, 4.2, 4.1, 4.3, 4.6, 4.8, 4.8, 4.6, 4.7, 5.5),\n",
       " (38, 'Pennsylvania', 2.6, 2.6, 2.6, 2.6, 2.6, 2.7, 2.7, 2.8, 2.8, 2.7, 2.7, 2.7, 2.8, 2.8, 2.3, 3.0, 3.1, 3.1, 3.1, 3.1, 3.1, 3.2, 3.3),\n",
       " (39, 'Rhode Island', 2.7, 2.9, 2.9, 2.8, 3.0, 2.8, 3.1, 3.2, 3.2, 3.2, 3.0, 2.7, 2.8, 3.0, 3.0, 3.1, 3.1, 3.2, 3.2, 2.9, 2.7, 3.6, 3.7),\n",
       " (40, 'South Carolina', 2.6, 2.5, 2.6, 2.5, 2.8, 2.9, 3.2, 3.2, 3.2, 3.1, 3.0, 2.8, 3.0, 2.9, 2.9, 3.2, 3.3, 3.4, 3.6, 3.8, 3.8, 3.9, 4.5),\n",
       " (41, 'South Dakota', 2.6, 2.6, 2.7, 2.8, 2.6, 2.8, 2.9, 3.0, 3.3, 3.4, 3.3, 3.1, 3.1, 3.2, 2.8, 3.1, 3.0, 3.3, 3.3, 3.5, 3.7, 3.9, 3.7),\n",
       " (42, 'Tennessee', 3.5, 3.5, 3.5, 3.8, 3.7, 3.8, 4.1, 4.2, 4.3, 4.2, 3.9, 4.2, 4.3, 4.6, 4.6, 4.9, 5.0, 5.1, 5.2, 5.9, 5.8, 6.2, 6.5),\n",
       " (43, 'Texas', 2.1, 2.6, 2.2, 2.6, 2.6, 2.7, 2.9, 3.0, 3.2, 3.3, 3.3, 3.3, 3.3, 3.4, 3.3, 3.6, 3.8, 3.9, 4.0, 4.0, 3.8, 5.2, 5.5),\n",
       " (44, 'Utah', 3.5, 3.8, 3.4, 3.6, 3.6, 3.1, 3.1, 3.3, 3.7, 3.7, 3.7, 3.8, 3.7, 3.9, 4.1, 4.1, 4.0, 4.1, 4.2, 4.3, 4.0, 4.4, 5.1),\n",
       " (45, 'Vermont', 2.8, 3.1, 2.9, 3.1, 3.1, 3.5, 3.5, 3.5, 3.6, 3.8, 3.5, 3.6, 3.6, 3.8, 3.6, 3.9, 4.0, 4.2, 4.3, 4.1, 4.4, 4.7, 4.5),\n",
       " (46, 'Virginia', 2.9, 3.1, 3.0, 3.4, 3.3, 3.5, 3.6, 3.7, 3.8, 3.8, 3.7, 3.8, 3.8, 4.0, 4.0, 3.9, 4.0, 4.2, 4.2, 4.3, 4.4, 4.3, 4.4),\n",
       " (47, 'Washington', 2.8, 3.3, 3.4, 3.5, 3.4, 3.6, 3.8, 3.9, 4.1, 4.2, 3.9, 3.9, 4.0, 4.1, 4.3, 4.3, 4.4, 4.6, 4.5, 4.6, 5.0, 5.4, 5.9),\n",
       " (48, 'West Virginia', 3.6, 3.3, 3.5, 3.8, 4.0, 4.2, 4.6, 4.7, 5.2, 5.1, 5.1, 4.8, 5.1, 5.0, 5.1, 5.0, 5.2, 5.2, 5.2, 5.1, 4.9, 5.2, 5.3),\n",
       " (49, 'Wisconsin', 2.3, 2.5, 2.4, 2.6, 2.6, 2.7, 2.8, 2.9, 2.9, 3.0, 2.9, 3.0, 2.9, 3.0, 2.9, 3.0, 3.1, 3.2, 3.2, 3.2, 3.2, 3.4, 3.6),\n",
       " (50, 'Wyoming', 3.8, 3.8, 4.0, 4.2, 4.1, 4.6, 4.3, 4.4, 4.8, 5.1, 5.1, 4.9, 4.9, 5.1, 5.2, 5.2, 5.4, 5.4, 5.8, 5.8, 5.7, 6.6, 6.6)]"
      ]
     },
     "execution_count": 50,
     "metadata": {},
     "output_type": "execute_result"
    }
   ],
   "source": [
    "engine.execute(\"SELECT * FROM divorce_rates\").fetchall()"
   ]
  },
  {
   "cell_type": "code",
   "execution_count": 51,
   "metadata": {},
   "outputs": [],
   "source": [
    "# Convert the index to primary key\n",
    "def get_create_table_string(tablename, connection):\n",
    "    sql = \"\"\"\n",
    "    select * from sqlite_master where name = \"{}\" and type = \"table\"\n",
    "    \"\"\".format(tablename) \n",
    "    result = connection.execute(sql)\n",
    "\n",
    "    create_table_string = result.fetchmany()[0][4]\n",
    "    return create_table_string\n",
    "\n",
    "def add_pk_to_create_table_string(create_table_string, colname):\n",
    "    regex = \"(\\n.+{}[^,]+)(,)\".format(colname)\n",
    "    return re.sub(regex, \"\\\\1 PRIMARY KEY,\",  create_table_string, count=1)\n",
    "\n",
    "def add_pk_to_sqlite_table(tablename, index_column, connection):\n",
    "    cts = get_create_table_string(tablename, connection)\n",
    "    cts = add_pk_to_create_table_string(cts, index_column)\n",
    "    template = \"\"\"\n",
    "    BEGIN TRANSACTION;\n",
    "        ALTER TABLE {tablename} RENAME TO {tablename}_old_;\n",
    "\n",
    "        {cts};\n",
    "\n",
    "        INSERT INTO {tablename} SELECT * FROM {tablename}_old_;\n",
    "\n",
    "        DROP TABLE {tablename}_old_;\n",
    "\n",
    "    COMMIT TRANSACTION;\n",
    "    \"\"\"\n",
    "\n",
    "    create_and_drop_sql = template.format(tablename = tablename, cts = cts)\n",
    "    connection.executescript(create_and_drop_sql)"
   ]
  },
  {
   "cell_type": "code",
   "execution_count": 52,
   "metadata": {},
   "outputs": [],
   "source": [
    "con = sqlite3.connect(\"../db/marriage_and_divorce_rates.sqlite\")\n",
    "# add_pk_to_sqlite_table('marriage_rates', 'index',)"
   ]
  },
  {
   "cell_type": "code",
   "execution_count": 53,
   "metadata": {},
   "outputs": [],
   "source": [
    "add_pk_to_sqlite_table('marriage_rates', 'index', con)"
   ]
  },
  {
   "cell_type": "code",
   "execution_count": 54,
   "metadata": {},
   "outputs": [],
   "source": [
    "add_pk_to_sqlite_table('divorce_rates', 'index', con)"
   ]
  },
  {
   "cell_type": "code",
   "execution_count": null,
   "metadata": {},
   "outputs": [],
   "source": []
  }
 ],
 "metadata": {
  "kernelspec": {
   "display_name": "Python 3",
   "language": "python",
   "name": "python3"
  },
  "language_info": {
   "codemirror_mode": {
    "name": "ipython",
    "version": 3
   },
   "file_extension": ".py",
   "mimetype": "text/x-python",
   "name": "python",
   "nbconvert_exporter": "python",
   "pygments_lexer": "ipython3",
   "version": "3.8.5"
  }
 },
 "nbformat": 4,
 "nbformat_minor": 4
}
